{
  "nbformat": 4,
  "nbformat_minor": 0,
  "metadata": {
    "kernelspec": {
      "display_name": "Python 3",
      "language": "python",
      "name": "python3"
    },
    "language_info": {
      "codemirror_mode": {
        "name": "ipython",
        "version": 3
      },
      "file_extension": ".py",
      "mimetype": "text/x-python",
      "name": "python",
      "nbconvert_exporter": "python",
      "pygments_lexer": "ipython3",
      "version": "3.8.5"
    },
    "colab": {
      "name": "Capstone_wk2 (1).ipynb",
      "provenance": [],
      "collapsed_sections": []
    }
  },
  "cells": [
    {
      "cell_type": "code",
      "metadata": {
        "id": "SE0grQZ8JEYo"
      },
      "source": [
        "import numpy as np\n",
        "import pandas as pd\n",
        "import folium as fm"
      ],
      "execution_count": null,
      "outputs": []
    },
    {
      "cell_type": "code",
      "metadata": {
        "colab": {
          "base_uri": "https://localhost:8080/"
        },
        "id": "VSy1WmHGJEYp",
        "outputId": "c632334a-09ec-4ec0-ac1a-b0361cce0de9"
      },
      "source": [
        "from folium.plugins import MarkerCluster\n",
        "MarkerCluster()"
      ],
      "execution_count": null,
      "outputs": [
        {
          "output_type": "execute_result",
          "data": {
            "text/plain": [
              "<folium.plugins.marker_cluster.MarkerCluster at 0x7fbae69b2890>"
            ]
          },
          "metadata": {
            "tags": []
          },
          "execution_count": 43
        }
      ]
    },
    {
      "cell_type": "code",
      "metadata": {
        "colab": {
          "base_uri": "https://localhost:8080/"
        },
        "id": "QegXf7AuJEYq",
        "outputId": "0ebdbf33-1eaf-4426-aaab-673d2fef145c"
      },
      "source": [
        "pip install mysql-connector-python"
      ],
      "execution_count": null,
      "outputs": [
        {
          "output_type": "stream",
          "text": [
            "Requirement already satisfied: mysql-connector-python in /usr/local/lib/python3.7/dist-packages (8.0.25)\n",
            "Requirement already satisfied: protobuf>=3.0.0 in /usr/local/lib/python3.7/dist-packages (from mysql-connector-python) (3.12.4)\n",
            "Requirement already satisfied: setuptools in /usr/local/lib/python3.7/dist-packages (from protobuf>=3.0.0->mysql-connector-python) (56.1.0)\n",
            "Requirement already satisfied: six>=1.9 in /usr/local/lib/python3.7/dist-packages (from protobuf>=3.0.0->mysql-connector-python) (1.15.0)\n"
          ],
          "name": "stdout"
        }
      ]
    },
    {
      "cell_type": "code",
      "metadata": {
        "id": "U2zWQxmoJEYq"
      },
      "source": [
        "import mysql.connector"
      ],
      "execution_count": null,
      "outputs": []
    },
    {
      "cell_type": "code",
      "metadata": {
        "colab": {
          "base_uri": "https://localhost:8080/"
        },
        "id": "knMHXnRcJEYq",
        "outputId": "017ccb5a-85b5-427f-89f4-833039b33f91"
      },
      "source": [
        "mydb = mysql.connector.connect(\n",
        "  host=\"cpanel.insaid.co\",\n",
        "  user=\"student\",\n",
        "  password=\"student\",\n",
        "  database = \"Capstone1\"\n",
        "   \n",
        ")\n",
        "print(mydb)"
      ],
      "execution_count": null,
      "outputs": [
        {
          "output_type": "stream",
          "text": [
            "<mysql.connector.connection_cext.CMySQLConnection object at 0x7fbae69c1110>\n"
          ],
          "name": "stdout"
        }
      ]
    },
    {
      "cell_type": "code",
      "metadata": {
        "colab": {
          "base_uri": "https://localhost:8080/",
          "height": 202
        },
        "id": "jUE-bA5KJEYr",
        "outputId": "7a5fc16f-592d-4904-9d33-893bd48b11ed"
      },
      "source": [
        "mycursor = mydb.cursor()\n",
        "mycursor.execute(\"SELECT * FROM gender_age_train\")\n",
        "records = mycursor.fetchall()\n",
        "gender = pd.DataFrame(records)\n",
        "gender.head()"
      ],
      "execution_count": null,
      "outputs": [
        {
          "output_type": "execute_result",
          "data": {
            "text/html": [
              "<div>\n",
              "<style scoped>\n",
              "    .dataframe tbody tr th:only-of-type {\n",
              "        vertical-align: middle;\n",
              "    }\n",
              "\n",
              "    .dataframe tbody tr th {\n",
              "        vertical-align: top;\n",
              "    }\n",
              "\n",
              "    .dataframe thead th {\n",
              "        text-align: right;\n",
              "    }\n",
              "</style>\n",
              "<table border=\"1\" class=\"dataframe\">\n",
              "  <thead>\n",
              "    <tr style=\"text-align: right;\">\n",
              "      <th></th>\n",
              "      <th>0</th>\n",
              "      <th>1</th>\n",
              "      <th>2</th>\n",
              "      <th>3</th>\n",
              "    </tr>\n",
              "  </thead>\n",
              "  <tbody>\n",
              "    <tr>\n",
              "      <th>0</th>\n",
              "      <td>-8076087639492063270</td>\n",
              "      <td>M</td>\n",
              "      <td>35</td>\n",
              "      <td>M32-38</td>\n",
              "    </tr>\n",
              "    <tr>\n",
              "      <th>1</th>\n",
              "      <td>-2897161552818060146</td>\n",
              "      <td>M</td>\n",
              "      <td>35</td>\n",
              "      <td>M32-38</td>\n",
              "    </tr>\n",
              "    <tr>\n",
              "      <th>2</th>\n",
              "      <td>-8260683887967679142</td>\n",
              "      <td>M</td>\n",
              "      <td>35</td>\n",
              "      <td>M32-38</td>\n",
              "    </tr>\n",
              "    <tr>\n",
              "      <th>3</th>\n",
              "      <td>-4938849341048082022</td>\n",
              "      <td>M</td>\n",
              "      <td>30</td>\n",
              "      <td>M29-31</td>\n",
              "    </tr>\n",
              "    <tr>\n",
              "      <th>4</th>\n",
              "      <td>245133531816851882</td>\n",
              "      <td>M</td>\n",
              "      <td>30</td>\n",
              "      <td>M29-31</td>\n",
              "    </tr>\n",
              "  </tbody>\n",
              "</table>\n",
              "</div>"
            ],
            "text/plain": [
              "                     0  1   2       3\n",
              "0 -8076087639492063270  M  35  M32-38\n",
              "1 -2897161552818060146  M  35  M32-38\n",
              "2 -8260683887967679142  M  35  M32-38\n",
              "3 -4938849341048082022  M  30  M29-31\n",
              "4   245133531816851882  M  30  M29-31"
            ]
          },
          "metadata": {
            "tags": []
          },
          "execution_count": 47
        }
      ]
    },
    {
      "cell_type": "code",
      "metadata": {
        "colab": {
          "base_uri": "https://localhost:8080/"
        },
        "id": "edTMYWQzJEYr",
        "outputId": "11894372-7fa7-45f5-9b28-9c11aa257d60"
      },
      "source": [
        "mydb = mysql.connector.connect(\n",
        "  host=\"cpanel.insaid.co\",\n",
        "  user=\"student\",\n",
        "  password=\"student\",\n",
        "  database = \"Capstone1\"\n",
        "   \n",
        ")\n",
        "print(mydb)"
      ],
      "execution_count": null,
      "outputs": [
        {
          "output_type": "stream",
          "text": [
            "<mysql.connector.connection_cext.CMySQLConnection object at 0x7fbae5ab6b50>\n"
          ],
          "name": "stdout"
        }
      ]
    },
    {
      "cell_type": "code",
      "metadata": {
        "colab": {
          "base_uri": "https://localhost:8080/",
          "height": 202
        },
        "id": "MEgBEKPvJEYs",
        "outputId": "4239dfb1-e301-41ea-f658-5719f557e2db"
      },
      "source": [
        "cursor = mydb.cursor()\n",
        "cursor.execute(\"SELECT * FROM phone_brand_device_model\")\n",
        "records1 = cursor.fetchall()\n",
        "phone = pd.DataFrame(records1)\n",
        "phone.head()"
      ],
      "execution_count": null,
      "outputs": [
        {
          "output_type": "execute_result",
          "data": {
            "text/html": [
              "<div>\n",
              "<style scoped>\n",
              "    .dataframe tbody tr th:only-of-type {\n",
              "        vertical-align: middle;\n",
              "    }\n",
              "\n",
              "    .dataframe tbody tr th {\n",
              "        vertical-align: top;\n",
              "    }\n",
              "\n",
              "    .dataframe thead th {\n",
              "        text-align: right;\n",
              "    }\n",
              "</style>\n",
              "<table border=\"1\" class=\"dataframe\">\n",
              "  <thead>\n",
              "    <tr style=\"text-align: right;\">\n",
              "      <th></th>\n",
              "      <th>0</th>\n",
              "      <th>1</th>\n",
              "      <th>2</th>\n",
              "    </tr>\n",
              "  </thead>\n",
              "  <tbody>\n",
              "    <tr>\n",
              "      <th>0</th>\n",
              "      <td>1877775838486905855</td>\n",
              "      <td>vivo</td>\n",
              "      <td>Y13</td>\n",
              "    </tr>\n",
              "    <tr>\n",
              "      <th>1</th>\n",
              "      <td>-3766087376657242966</td>\n",
              "      <td>小米</td>\n",
              "      <td>V183</td>\n",
              "    </tr>\n",
              "    <tr>\n",
              "      <th>2</th>\n",
              "      <td>-6238937574958215831</td>\n",
              "      <td>OPPO</td>\n",
              "      <td>R7s</td>\n",
              "    </tr>\n",
              "    <tr>\n",
              "      <th>3</th>\n",
              "      <td>8973197758510677470</td>\n",
              "      <td>三星</td>\n",
              "      <td>A368t</td>\n",
              "    </tr>\n",
              "    <tr>\n",
              "      <th>4</th>\n",
              "      <td>-2015528097870762664</td>\n",
              "      <td>小米</td>\n",
              "      <td>红米Note2</td>\n",
              "    </tr>\n",
              "  </tbody>\n",
              "</table>\n",
              "</div>"
            ],
            "text/plain": [
              "                     0     1        2\n",
              "0  1877775838486905855  vivo      Y13\n",
              "1 -3766087376657242966    小米     V183\n",
              "2 -6238937574958215831  OPPO      R7s\n",
              "3  8973197758510677470    三星    A368t\n",
              "4 -2015528097870762664    小米  红米Note2"
            ]
          },
          "metadata": {
            "tags": []
          },
          "execution_count": 49
        }
      ]
    },
    {
      "cell_type": "code",
      "metadata": {
        "colab": {
          "base_uri": "https://localhost:8080/",
          "height": 202
        },
        "id": "BSbFdC1zJEYs",
        "outputId": "86096f6b-8c40-4384-a5c9-b8ed1ebc8a96"
      },
      "source": [
        "gender.head()\n"
      ],
      "execution_count": null,
      "outputs": [
        {
          "output_type": "execute_result",
          "data": {
            "text/html": [
              "<div>\n",
              "<style scoped>\n",
              "    .dataframe tbody tr th:only-of-type {\n",
              "        vertical-align: middle;\n",
              "    }\n",
              "\n",
              "    .dataframe tbody tr th {\n",
              "        vertical-align: top;\n",
              "    }\n",
              "\n",
              "    .dataframe thead th {\n",
              "        text-align: right;\n",
              "    }\n",
              "</style>\n",
              "<table border=\"1\" class=\"dataframe\">\n",
              "  <thead>\n",
              "    <tr style=\"text-align: right;\">\n",
              "      <th></th>\n",
              "      <th>0</th>\n",
              "      <th>1</th>\n",
              "      <th>2</th>\n",
              "      <th>3</th>\n",
              "    </tr>\n",
              "  </thead>\n",
              "  <tbody>\n",
              "    <tr>\n",
              "      <th>0</th>\n",
              "      <td>-8076087639492063270</td>\n",
              "      <td>M</td>\n",
              "      <td>35</td>\n",
              "      <td>M32-38</td>\n",
              "    </tr>\n",
              "    <tr>\n",
              "      <th>1</th>\n",
              "      <td>-2897161552818060146</td>\n",
              "      <td>M</td>\n",
              "      <td>35</td>\n",
              "      <td>M32-38</td>\n",
              "    </tr>\n",
              "    <tr>\n",
              "      <th>2</th>\n",
              "      <td>-8260683887967679142</td>\n",
              "      <td>M</td>\n",
              "      <td>35</td>\n",
              "      <td>M32-38</td>\n",
              "    </tr>\n",
              "    <tr>\n",
              "      <th>3</th>\n",
              "      <td>-4938849341048082022</td>\n",
              "      <td>M</td>\n",
              "      <td>30</td>\n",
              "      <td>M29-31</td>\n",
              "    </tr>\n",
              "    <tr>\n",
              "      <th>4</th>\n",
              "      <td>245133531816851882</td>\n",
              "      <td>M</td>\n",
              "      <td>30</td>\n",
              "      <td>M29-31</td>\n",
              "    </tr>\n",
              "  </tbody>\n",
              "</table>\n",
              "</div>"
            ],
            "text/plain": [
              "                     0  1   2       3\n",
              "0 -8076087639492063270  M  35  M32-38\n",
              "1 -2897161552818060146  M  35  M32-38\n",
              "2 -8260683887967679142  M  35  M32-38\n",
              "3 -4938849341048082022  M  30  M29-31\n",
              "4   245133531816851882  M  30  M29-31"
            ]
          },
          "metadata": {
            "tags": []
          },
          "execution_count": 50
        }
      ]
    },
    {
      "cell_type": "code",
      "metadata": {
        "colab": {
          "base_uri": "https://localhost:8080/",
          "height": 202
        },
        "id": "2ZtOq3eKJEYs",
        "outputId": "d1661e77-031e-4597-cc7b-466f51c4c0fc"
      },
      "source": [
        "phone.head()"
      ],
      "execution_count": null,
      "outputs": [
        {
          "output_type": "execute_result",
          "data": {
            "text/html": [
              "<div>\n",
              "<style scoped>\n",
              "    .dataframe tbody tr th:only-of-type {\n",
              "        vertical-align: middle;\n",
              "    }\n",
              "\n",
              "    .dataframe tbody tr th {\n",
              "        vertical-align: top;\n",
              "    }\n",
              "\n",
              "    .dataframe thead th {\n",
              "        text-align: right;\n",
              "    }\n",
              "</style>\n",
              "<table border=\"1\" class=\"dataframe\">\n",
              "  <thead>\n",
              "    <tr style=\"text-align: right;\">\n",
              "      <th></th>\n",
              "      <th>0</th>\n",
              "      <th>1</th>\n",
              "      <th>2</th>\n",
              "    </tr>\n",
              "  </thead>\n",
              "  <tbody>\n",
              "    <tr>\n",
              "      <th>0</th>\n",
              "      <td>1877775838486905855</td>\n",
              "      <td>vivo</td>\n",
              "      <td>Y13</td>\n",
              "    </tr>\n",
              "    <tr>\n",
              "      <th>1</th>\n",
              "      <td>-3766087376657242966</td>\n",
              "      <td>小米</td>\n",
              "      <td>V183</td>\n",
              "    </tr>\n",
              "    <tr>\n",
              "      <th>2</th>\n",
              "      <td>-6238937574958215831</td>\n",
              "      <td>OPPO</td>\n",
              "      <td>R7s</td>\n",
              "    </tr>\n",
              "    <tr>\n",
              "      <th>3</th>\n",
              "      <td>8973197758510677470</td>\n",
              "      <td>三星</td>\n",
              "      <td>A368t</td>\n",
              "    </tr>\n",
              "    <tr>\n",
              "      <th>4</th>\n",
              "      <td>-2015528097870762664</td>\n",
              "      <td>小米</td>\n",
              "      <td>红米Note2</td>\n",
              "    </tr>\n",
              "  </tbody>\n",
              "</table>\n",
              "</div>"
            ],
            "text/plain": [
              "                     0     1        2\n",
              "0  1877775838486905855  vivo      Y13\n",
              "1 -3766087376657242966    小米     V183\n",
              "2 -6238937574958215831  OPPO      R7s\n",
              "3  8973197758510677470    三星    A368t\n",
              "4 -2015528097870762664    小米  红米Note2"
            ]
          },
          "metadata": {
            "tags": []
          },
          "execution_count": 51
        }
      ]
    },
    {
      "cell_type": "code",
      "metadata": {
        "colab": {
          "base_uri": "https://localhost:8080/"
        },
        "id": "vFZqBYoEJEYs",
        "outputId": "bd3a920c-17d4-48d3-8bb2-9aa6314f703c"
      },
      "source": [
        "gender.shape"
      ],
      "execution_count": null,
      "outputs": [
        {
          "output_type": "execute_result",
          "data": {
            "text/plain": [
              "(74645, 4)"
            ]
          },
          "metadata": {
            "tags": []
          },
          "execution_count": 52
        }
      ]
    },
    {
      "cell_type": "code",
      "metadata": {
        "colab": {
          "base_uri": "https://localhost:8080/"
        },
        "id": "BVmHbGtmJEYt",
        "outputId": "6e132261-d251-433c-ad17-2f24483d777e"
      },
      "source": [
        "phone.shape"
      ],
      "execution_count": null,
      "outputs": [
        {
          "output_type": "execute_result",
          "data": {
            "text/plain": [
              "(87726, 3)"
            ]
          },
          "metadata": {
            "tags": []
          },
          "execution_count": 53
        }
      ]
    },
    {
      "cell_type": "code",
      "metadata": {
        "colab": {
          "base_uri": "https://localhost:8080/"
        },
        "id": "fq7k-4mFJEYt",
        "outputId": "22ac69dd-398b-487e-8b87-ff3966870a0f"
      },
      "source": [
        "phone.info()"
      ],
      "execution_count": null,
      "outputs": [
        {
          "output_type": "stream",
          "text": [
            "<class 'pandas.core.frame.DataFrame'>\n",
            "RangeIndex: 87726 entries, 0 to 87725\n",
            "Data columns (total 3 columns):\n",
            " #   Column  Non-Null Count  Dtype \n",
            "---  ------  --------------  ----- \n",
            " 0   0       87726 non-null  int64 \n",
            " 1   1       87726 non-null  object\n",
            " 2   2       87726 non-null  object\n",
            "dtypes: int64(1), object(2)\n",
            "memory usage: 2.0+ MB\n"
          ],
          "name": "stdout"
        }
      ]
    },
    {
      "cell_type": "code",
      "metadata": {
        "colab": {
          "base_uri": "https://localhost:8080/"
        },
        "id": "vsB2rDkAJEYt",
        "outputId": "a5bd0737-8407-48b5-bfea-15a2d8e6a349"
      },
      "source": [
        "phone[1].unique()"
      ],
      "execution_count": null,
      "outputs": [
        {
          "output_type": "execute_result",
          "data": {
            "text/plain": [
              "array(['vivo', '小米', 'OPPO', '三星', '酷派', '联想 ', '华为', '奇酷', '魅族', '斐讯',\n",
              "       '中国移动', 'HTC', '天语', '至尊宝', 'LG', '欧博信', '优米', 'ZUK', '努比亚', '惠普',\n",
              "       '尼比鲁', '美图', '乡米', '摩托罗拉', '梦米', '锤子', '富可视', '乐视', '海信', '百立丰',\n",
              "       '一加', '语信', '海尔', '酷比', '纽曼', '波导', '朵唯', '聆韵', 'TCL', '酷珀', '爱派尔',\n",
              "       'LOGO', '青葱', '果米', '华硕', '昂达', '艾优尼', '康佳', '优购', '邦华', '赛博宇华',\n",
              "       '黑米', 'Lovme', '先锋', 'E派', '神舟', '诺基亚', '普耐尔', '糖葫芦', '亿通', '欧新',\n",
              "       '米奇', '酷比魔方', '蓝魔', '小杨树', '贝尔丰', '糯米', '米歌', 'E人E本', '西米', '大Q',\n",
              "       '台电', '飞利浦', '唯米', '大显', '长虹', '维图', '青橙', '本为', '虾米', '夏新', '帷幄',\n",
              "       '百加', 'SUGAR', '欧奇', '世纪星', '智镁', '欧比', '基伍', '飞秒', '德赛', '易派',\n",
              "       '谷歌', '金星数码', '广信', '诺亚信', 'MIL', '白米', '大可乐', '宝捷讯', '优语', '首云',\n",
              "       '瑞米', '瑞高', '沃普丰', '摩乐', '鲜米', '凯利通', '唯比', '欧沃', '丰米', '恒宇丰',\n",
              "       '奥克斯', '西门子', '欧乐迪', 'PPTV'], dtype=object)"
            ]
          },
          "metadata": {
            "tags": []
          },
          "execution_count": 55
        }
      ]
    },
    {
      "cell_type": "code",
      "metadata": {
        "colab": {
          "base_uri": "https://localhost:8080/"
        },
        "id": "cFjOTmRLJEYt",
        "outputId": "783be501-df0c-49ff-ddfa-e238a90f9804"
      },
      "source": [
        "phone[1].nunique()"
      ],
      "execution_count": null,
      "outputs": [
        {
          "output_type": "execute_result",
          "data": {
            "text/plain": [
              "116"
            ]
          },
          "metadata": {
            "tags": []
          },
          "execution_count": 56
        }
      ]
    },
    {
      "cell_type": "code",
      "metadata": {
        "colab": {
          "base_uri": "https://localhost:8080/"
        },
        "id": "5oG8JCByJEYu",
        "outputId": "1e2b4535-668b-4917-e10f-ac876a8334e7"
      },
      "source": [
        "gender.info()"
      ],
      "execution_count": null,
      "outputs": [
        {
          "output_type": "stream",
          "text": [
            "<class 'pandas.core.frame.DataFrame'>\n",
            "RangeIndex: 74645 entries, 0 to 74644\n",
            "Data columns (total 4 columns):\n",
            " #   Column  Non-Null Count  Dtype \n",
            "---  ------  --------------  ----- \n",
            " 0   0       74645 non-null  int64 \n",
            " 1   1       74645 non-null  object\n",
            " 2   2       74645 non-null  int64 \n",
            " 3   3       74645 non-null  object\n",
            "dtypes: int64(2), object(2)\n",
            "memory usage: 2.3+ MB\n"
          ],
          "name": "stdout"
        }
      ]
    },
    {
      "cell_type": "code",
      "metadata": {
        "id": "gUMi2On8JEYu"
      },
      "source": [
        "gender.columns = ['device_id','gender','age','age_group']"
      ],
      "execution_count": null,
      "outputs": []
    },
    {
      "cell_type": "code",
      "metadata": {
        "colab": {
          "base_uri": "https://localhost:8080/",
          "height": 202
        },
        "id": "aq0Sfum9JEYu",
        "outputId": "6a2a9650-3e09-4cdc-b2a3-066d49e586ad"
      },
      "source": [
        "gender.head()"
      ],
      "execution_count": null,
      "outputs": [
        {
          "output_type": "execute_result",
          "data": {
            "text/html": [
              "<div>\n",
              "<style scoped>\n",
              "    .dataframe tbody tr th:only-of-type {\n",
              "        vertical-align: middle;\n",
              "    }\n",
              "\n",
              "    .dataframe tbody tr th {\n",
              "        vertical-align: top;\n",
              "    }\n",
              "\n",
              "    .dataframe thead th {\n",
              "        text-align: right;\n",
              "    }\n",
              "</style>\n",
              "<table border=\"1\" class=\"dataframe\">\n",
              "  <thead>\n",
              "    <tr style=\"text-align: right;\">\n",
              "      <th></th>\n",
              "      <th>device_id</th>\n",
              "      <th>gender</th>\n",
              "      <th>age</th>\n",
              "      <th>age_group</th>\n",
              "    </tr>\n",
              "  </thead>\n",
              "  <tbody>\n",
              "    <tr>\n",
              "      <th>0</th>\n",
              "      <td>-8076087639492063270</td>\n",
              "      <td>M</td>\n",
              "      <td>35</td>\n",
              "      <td>M32-38</td>\n",
              "    </tr>\n",
              "    <tr>\n",
              "      <th>1</th>\n",
              "      <td>-2897161552818060146</td>\n",
              "      <td>M</td>\n",
              "      <td>35</td>\n",
              "      <td>M32-38</td>\n",
              "    </tr>\n",
              "    <tr>\n",
              "      <th>2</th>\n",
              "      <td>-8260683887967679142</td>\n",
              "      <td>M</td>\n",
              "      <td>35</td>\n",
              "      <td>M32-38</td>\n",
              "    </tr>\n",
              "    <tr>\n",
              "      <th>3</th>\n",
              "      <td>-4938849341048082022</td>\n",
              "      <td>M</td>\n",
              "      <td>30</td>\n",
              "      <td>M29-31</td>\n",
              "    </tr>\n",
              "    <tr>\n",
              "      <th>4</th>\n",
              "      <td>245133531816851882</td>\n",
              "      <td>M</td>\n",
              "      <td>30</td>\n",
              "      <td>M29-31</td>\n",
              "    </tr>\n",
              "  </tbody>\n",
              "</table>\n",
              "</div>"
            ],
            "text/plain": [
              "             device_id gender  age age_group\n",
              "0 -8076087639492063270      M   35    M32-38\n",
              "1 -2897161552818060146      M   35    M32-38\n",
              "2 -8260683887967679142      M   35    M32-38\n",
              "3 -4938849341048082022      M   30    M29-31\n",
              "4   245133531816851882      M   30    M29-31"
            ]
          },
          "metadata": {
            "tags": []
          },
          "execution_count": 59
        }
      ]
    },
    {
      "cell_type": "code",
      "metadata": {
        "colab": {
          "base_uri": "https://localhost:8080/"
        },
        "id": "CGOy9DvuJEYu",
        "outputId": "555c5936-f4e0-4bdc-db9b-05daaa4f0944"
      },
      "source": [
        "gender['age_group'].value_counts()"
      ],
      "execution_count": null,
      "outputs": [
        {
          "output_type": "execute_result",
          "data": {
            "text/plain": [
              "M23-26    9605\n",
              "M32-38    9476\n",
              "M39+      8581\n",
              "M22-      7488\n",
              "M29-31    7309\n",
              "F33-42    5561\n",
              "M27-28    5445\n",
              "F23-      5050\n",
              "F29-32    4628\n",
              "F43+      4194\n",
              "F24-26    4190\n",
              "F27-28    3118\n",
              "Name: age_group, dtype: int64"
            ]
          },
          "metadata": {
            "tags": []
          },
          "execution_count": 60
        }
      ]
    },
    {
      "cell_type": "code",
      "metadata": {
        "id": "_kXfatcNJEYu"
      },
      "source": [
        "phone.columns = ['device_id','make','model']"
      ],
      "execution_count": null,
      "outputs": []
    },
    {
      "cell_type": "code",
      "metadata": {
        "colab": {
          "base_uri": "https://localhost:8080/",
          "height": 202
        },
        "id": "XoHvoaMwJEYv",
        "outputId": "8d093b2a-86d9-476c-b51e-819ee509eb01"
      },
      "source": [
        "phone.head()"
      ],
      "execution_count": null,
      "outputs": [
        {
          "output_type": "execute_result",
          "data": {
            "text/html": [
              "<div>\n",
              "<style scoped>\n",
              "    .dataframe tbody tr th:only-of-type {\n",
              "        vertical-align: middle;\n",
              "    }\n",
              "\n",
              "    .dataframe tbody tr th {\n",
              "        vertical-align: top;\n",
              "    }\n",
              "\n",
              "    .dataframe thead th {\n",
              "        text-align: right;\n",
              "    }\n",
              "</style>\n",
              "<table border=\"1\" class=\"dataframe\">\n",
              "  <thead>\n",
              "    <tr style=\"text-align: right;\">\n",
              "      <th></th>\n",
              "      <th>device_id</th>\n",
              "      <th>make</th>\n",
              "      <th>model</th>\n",
              "    </tr>\n",
              "  </thead>\n",
              "  <tbody>\n",
              "    <tr>\n",
              "      <th>0</th>\n",
              "      <td>1877775838486905855</td>\n",
              "      <td>vivo</td>\n",
              "      <td>Y13</td>\n",
              "    </tr>\n",
              "    <tr>\n",
              "      <th>1</th>\n",
              "      <td>-3766087376657242966</td>\n",
              "      <td>小米</td>\n",
              "      <td>V183</td>\n",
              "    </tr>\n",
              "    <tr>\n",
              "      <th>2</th>\n",
              "      <td>-6238937574958215831</td>\n",
              "      <td>OPPO</td>\n",
              "      <td>R7s</td>\n",
              "    </tr>\n",
              "    <tr>\n",
              "      <th>3</th>\n",
              "      <td>8973197758510677470</td>\n",
              "      <td>三星</td>\n",
              "      <td>A368t</td>\n",
              "    </tr>\n",
              "    <tr>\n",
              "      <th>4</th>\n",
              "      <td>-2015528097870762664</td>\n",
              "      <td>小米</td>\n",
              "      <td>红米Note2</td>\n",
              "    </tr>\n",
              "  </tbody>\n",
              "</table>\n",
              "</div>"
            ],
            "text/plain": [
              "             device_id  make    model\n",
              "0  1877775838486905855  vivo      Y13\n",
              "1 -3766087376657242966    小米     V183\n",
              "2 -6238937574958215831  OPPO      R7s\n",
              "3  8973197758510677470    三星    A368t\n",
              "4 -2015528097870762664    小米  红米Note2"
            ]
          },
          "metadata": {
            "tags": []
          },
          "execution_count": 62
        }
      ]
    },
    {
      "cell_type": "code",
      "metadata": {
        "colab": {
          "base_uri": "https://localhost:8080/"
        },
        "id": "qHn-ZYutJEYv",
        "outputId": "37e319d3-2b7f-4b8d-ff47-5dfba9bef476"
      },
      "source": [
        "mydb = mysql.connector.connect(\n",
        "  host=\"cpanel.insaid.co\",\n",
        "  user=\"student\",\n",
        "  password=\"student\",\n",
        "  database = \"Capstone1\"\n",
        "   \n",
        ")\n",
        "print(mydb)"
      ],
      "execution_count": null,
      "outputs": [
        {
          "output_type": "stream",
          "text": [
            "<mysql.connector.connection_cext.CMySQLConnection object at 0x7fbae5ab6a10>\n"
          ],
          "name": "stdout"
        }
      ]
    },
    {
      "cell_type": "code",
      "metadata": {
        "colab": {
          "base_uri": "https://localhost:8080/"
        },
        "id": "jX_2a5-9JEYv",
        "outputId": "b9255b0d-b41a-4c72-fb3b-72199a900e96"
      },
      "source": [
        "cursor = mydb.cursor()\n",
        "cursor.execute((\"SHOW TABLES\"))\n",
        "for i in cursor:\n",
        "    print (i)"
      ],
      "execution_count": null,
      "outputs": [
        {
          "output_type": "stream",
          "text": [
            "('events_data',)\n",
            "('gender_age_train',)\n",
            "('phone_brand_device_model',)\n"
          ],
          "name": "stdout"
        }
      ]
    },
    {
      "cell_type": "code",
      "metadata": {
        "id": "umg3lvUZJEYv"
      },
      "source": [
        "events = pd.read_csv('events_data.csv')"
      ],
      "execution_count": null,
      "outputs": []
    },
    {
      "cell_type": "code",
      "metadata": {
        "colab": {
          "base_uri": "https://localhost:8080/"
        },
        "id": "IXHij7UqJEYv",
        "outputId": "2a38e1f7-e194-4dbc-8608-895ddd933b4a"
      },
      "source": [
        "events.isnull().sum()"
      ],
      "execution_count": null,
      "outputs": [
        {
          "output_type": "execute_result",
          "data": {
            "text/plain": [
              "event_id       0\n",
              "device_id    453\n",
              "timestamp      0\n",
              "longitude    423\n",
              "latitude     423\n",
              "city           0\n",
              "state        377\n",
              "dtype: int64"
            ]
          },
          "metadata": {
            "tags": []
          },
          "execution_count": 66
        }
      ]
    },
    {
      "cell_type": "code",
      "metadata": {
        "colab": {
          "base_uri": "https://localhost:8080/"
        },
        "id": "40qgrllvJEYw",
        "outputId": "e774ec0b-e9fa-494e-cb95-e137489b1c4a"
      },
      "source": [
        "state_null = events[events['state'].isnull()]['city'].unique()\n",
        "state_null"
      ],
      "execution_count": null,
      "outputs": [
        {
          "output_type": "execute_result",
          "data": {
            "text/plain": [
              "array(['Pune', 'Visakhapatnam', 'Indore', 'Chennai', 'Delhi',\n",
              "       'Channapatna', 'Jaipur', 'Gangarampur', 'Arambagh'], dtype=object)"
            ]
          },
          "metadata": {
            "tags": []
          },
          "execution_count": 67
        }
      ]
    },
    {
      "cell_type": "code",
      "metadata": {
        "colab": {
          "base_uri": "https://localhost:8080/"
        },
        "id": "Qhm_mjT4JEYw",
        "outputId": "e8b72f48-1c38-43ce-bec5-a5781cc649e6"
      },
      "source": [
        "events['state'][events['city']=='Pune'].mode()"
      ],
      "execution_count": null,
      "outputs": [
        {
          "output_type": "execute_result",
          "data": {
            "text/plain": [
              "0    Maharashtra\n",
              "dtype: object"
            ]
          },
          "metadata": {
            "tags": []
          },
          "execution_count": 68
        }
      ]
    },
    {
      "cell_type": "code",
      "metadata": {
        "colab": {
          "base_uri": "https://localhost:8080/"
        },
        "id": "NlTpetKoJEYw",
        "outputId": "75ee1f24-bbcd-4a16-fde4-47580f47d7f7"
      },
      "source": [
        "events['state'][events['city']=='Visakhapatnam'].mode()"
      ],
      "execution_count": null,
      "outputs": [
        {
          "output_type": "execute_result",
          "data": {
            "text/plain": [
              "0    AndhraPradesh\n",
              "dtype: object"
            ]
          },
          "metadata": {
            "tags": []
          },
          "execution_count": 69
        }
      ]
    },
    {
      "cell_type": "code",
      "metadata": {
        "colab": {
          "base_uri": "https://localhost:8080/"
        },
        "id": "Nqn54Qz0JEYw",
        "outputId": "a4858e4d-b0d8-4885-b52e-6140692f0ce2"
      },
      "source": [
        "events['state'][events['city']=='Indore'].mode()"
      ],
      "execution_count": null,
      "outputs": [
        {
          "output_type": "execute_result",
          "data": {
            "text/plain": [
              "0    MadhyaPradesh\n",
              "dtype: object"
            ]
          },
          "metadata": {
            "tags": []
          },
          "execution_count": 70
        }
      ]
    },
    {
      "cell_type": "code",
      "metadata": {
        "colab": {
          "base_uri": "https://localhost:8080/"
        },
        "id": "yrswgLeTJEYw",
        "outputId": "224606d3-f713-40c1-e86c-af9d3a64d478"
      },
      "source": [
        "events['state'][events['city']=='Channapatna'].mode()"
      ],
      "execution_count": null,
      "outputs": [
        {
          "output_type": "execute_result",
          "data": {
            "text/plain": [
              "0    Karnataka\n",
              "dtype: object"
            ]
          },
          "metadata": {
            "tags": []
          },
          "execution_count": 71
        }
      ]
    },
    {
      "cell_type": "code",
      "metadata": {
        "colab": {
          "base_uri": "https://localhost:8080/"
        },
        "id": "_LUSopQ2JEYx",
        "outputId": "bcad3767-64db-497a-ac53-208eec3ad456"
      },
      "source": [
        "events['state'][events['city']=='Jaipur'].mode()"
      ],
      "execution_count": null,
      "outputs": [
        {
          "output_type": "execute_result",
          "data": {
            "text/plain": [
              "0    Rajasthan\n",
              "dtype: object"
            ]
          },
          "metadata": {
            "tags": []
          },
          "execution_count": 72
        }
      ]
    },
    {
      "cell_type": "code",
      "metadata": {
        "colab": {
          "base_uri": "https://localhost:8080/"
        },
        "id": "JSIepQ3BJEYx",
        "outputId": "37d65089-ac97-41f3-d059-2469f4ed66bc"
      },
      "source": [
        "events['state'][events['city']=='Gangarampur'].mode()"
      ],
      "execution_count": null,
      "outputs": [
        {
          "output_type": "execute_result",
          "data": {
            "text/plain": [
              "0    WestBengal\n",
              "dtype: object"
            ]
          },
          "metadata": {
            "tags": []
          },
          "execution_count": 73
        }
      ]
    },
    {
      "cell_type": "code",
      "metadata": {
        "colab": {
          "base_uri": "https://localhost:8080/"
        },
        "id": "6K4CBKX7JEYx",
        "outputId": "56d25475-b9d7-4c79-bd5a-2d4bc83aa441"
      },
      "source": [
        "events['state'][events['city']=='Arambagh'].mode()"
      ],
      "execution_count": null,
      "outputs": [
        {
          "output_type": "execute_result",
          "data": {
            "text/plain": [
              "0    WestBengal\n",
              "dtype: object"
            ]
          },
          "metadata": {
            "tags": []
          },
          "execution_count": 74
        }
      ]
    },
    {
      "cell_type": "code",
      "metadata": {
        "id": "40jksyi8JEYx"
      },
      "source": [
        "events.loc[(events['city'] =='Jaipur') \\\n",
        "    & (events['state'].isnull()),'state'] = 'Rajasthan'"
      ],
      "execution_count": null,
      "outputs": []
    },
    {
      "cell_type": "code",
      "metadata": {
        "id": "_-LWycxDJEYx"
      },
      "source": [
        "states = ['Rajasthan', 'UttarPradesh', 'Haryana', 'Jharkhand', 'Orissa', 'Telangana', 'Assam']"
      ],
      "execution_count": null,
      "outputs": []
    },
    {
      "cell_type": "code",
      "metadata": {
        "id": "gA1klO9bJEYy"
      },
      "source": [
        "events_1006 = events[events.state.isin(states)]"
      ],
      "execution_count": null,
      "outputs": []
    },
    {
      "cell_type": "code",
      "metadata": {
        "colab": {
          "base_uri": "https://localhost:8080/"
        },
        "id": "7jUL2foRJEYy",
        "outputId": "9ae0c6a3-9088-45db-b9f0-4fdc16c0b3b4"
      },
      "source": [
        "events_1006.shape"
      ],
      "execution_count": null,
      "outputs": [
        {
          "output_type": "execute_result",
          "data": {
            "text/plain": [
              "(370982, 7)"
            ]
          },
          "metadata": {
            "tags": []
          },
          "execution_count": 78
        }
      ]
    },
    {
      "cell_type": "code",
      "metadata": {
        "colab": {
          "base_uri": "https://localhost:8080/"
        },
        "id": "eKJgxDBCJEYy",
        "outputId": "194a4cfe-097e-492c-b00b-345807131b9d"
      },
      "source": [
        "events_1006.isnull().sum()"
      ],
      "execution_count": null,
      "outputs": [
        {
          "output_type": "execute_result",
          "data": {
            "text/plain": [
              "event_id      0\n",
              "device_id    81\n",
              "timestamp     0\n",
              "longitude    66\n",
              "latitude     66\n",
              "city          0\n",
              "state         0\n",
              "dtype: int64"
            ]
          },
          "metadata": {
            "tags": []
          },
          "execution_count": 79
        }
      ]
    },
    {
      "cell_type": "code",
      "metadata": {
        "colab": {
          "base_uri": "https://localhost:8080/",
          "height": 202
        },
        "id": "Rlc5M_a4JEYy",
        "outputId": "21c052a5-f17d-4b97-ceb4-2409d5b30871"
      },
      "source": [
        "events_1006.head()"
      ],
      "execution_count": null,
      "outputs": [
        {
          "output_type": "execute_result",
          "data": {
            "text/html": [
              "<div>\n",
              "<style scoped>\n",
              "    .dataframe tbody tr th:only-of-type {\n",
              "        vertical-align: middle;\n",
              "    }\n",
              "\n",
              "    .dataframe tbody tr th {\n",
              "        vertical-align: top;\n",
              "    }\n",
              "\n",
              "    .dataframe thead th {\n",
              "        text-align: right;\n",
              "    }\n",
              "</style>\n",
              "<table border=\"1\" class=\"dataframe\">\n",
              "  <thead>\n",
              "    <tr style=\"text-align: right;\">\n",
              "      <th></th>\n",
              "      <th>event_id</th>\n",
              "      <th>device_id</th>\n",
              "      <th>timestamp</th>\n",
              "      <th>longitude</th>\n",
              "      <th>latitude</th>\n",
              "      <th>city</th>\n",
              "      <th>state</th>\n",
              "    </tr>\n",
              "  </thead>\n",
              "  <tbody>\n",
              "    <tr>\n",
              "      <th>4</th>\n",
              "      <td>665740</td>\n",
              "      <td>3.388880e+17</td>\n",
              "      <td>2016-05-06 03:51:05</td>\n",
              "      <td>85.997745</td>\n",
              "      <td>23.842609</td>\n",
              "      <td>Bokaro</td>\n",
              "      <td>Jharkhand</td>\n",
              "    </tr>\n",
              "    <tr>\n",
              "      <th>54</th>\n",
              "      <td>1888847</td>\n",
              "      <td>-2.801062e+17</td>\n",
              "      <td>2016-05-02 15:52:42</td>\n",
              "      <td>75.863671</td>\n",
              "      <td>26.931170</td>\n",
              "      <td>Jaipur</td>\n",
              "      <td>Rajasthan</td>\n",
              "    </tr>\n",
              "    <tr>\n",
              "      <th>57</th>\n",
              "      <td>2342814</td>\n",
              "      <td>5.163961e+18</td>\n",
              "      <td>2016-05-04 16:26:56</td>\n",
              "      <td>75.813028</td>\n",
              "      <td>26.955495</td>\n",
              "      <td>Jaipur</td>\n",
              "      <td>Rajasthan</td>\n",
              "    </tr>\n",
              "    <tr>\n",
              "      <th>59</th>\n",
              "      <td>311140</td>\n",
              "      <td>-8.853338e+18</td>\n",
              "      <td>2016-05-07 15:16:03</td>\n",
              "      <td>82.921957</td>\n",
              "      <td>18.736368</td>\n",
              "      <td>Sunabeda</td>\n",
              "      <td>Orissa</td>\n",
              "    </tr>\n",
              "    <tr>\n",
              "      <th>68</th>\n",
              "      <td>3166154</td>\n",
              "      <td>6.422749e+18</td>\n",
              "      <td>2016-05-03 19:10:45</td>\n",
              "      <td>79.162313</td>\n",
              "      <td>28.290387</td>\n",
              "      <td>Aonla</td>\n",
              "      <td>UttarPradesh</td>\n",
              "    </tr>\n",
              "  </tbody>\n",
              "</table>\n",
              "</div>"
            ],
            "text/plain": [
              "    event_id     device_id  ...      city         state\n",
              "4     665740  3.388880e+17  ...    Bokaro     Jharkhand\n",
              "54   1888847 -2.801062e+17  ...    Jaipur     Rajasthan\n",
              "57   2342814  5.163961e+18  ...    Jaipur     Rajasthan\n",
              "59    311140 -8.853338e+18  ...  Sunabeda        Orissa\n",
              "68   3166154  6.422749e+18  ...     Aonla  UttarPradesh\n",
              "\n",
              "[5 rows x 7 columns]"
            ]
          },
          "metadata": {
            "tags": []
          },
          "execution_count": 80
        }
      ]
    },
    {
      "cell_type": "code",
      "metadata": {
        "colab": {
          "base_uri": "https://localhost:8080/"
        },
        "id": "kZBYS62jJEYy",
        "outputId": "0c545243-8e93-4ed9-a520-35e504a4a84f"
      },
      "source": [
        "pip install google-trans-new"
      ],
      "execution_count": null,
      "outputs": [
        {
          "output_type": "stream",
          "text": [
            "Requirement already satisfied: google-trans-new in /usr/local/lib/python3.7/dist-packages (1.1.9)\n"
          ],
          "name": "stdout"
        }
      ]
    },
    {
      "cell_type": "code",
      "metadata": {
        "colab": {
          "base_uri": "https://localhost:8080/",
          "height": 450
        },
        "id": "9Lq366YfJEYy",
        "outputId": "a447fb53-b7c5-456f-9f57-3f9ded68e9ee"
      },
      "source": [
        "\n",
        "from google_trans_new import google_translator \n",
        "\n",
        "# DIct of unique models\n",
        "translator = google_translator()  \n",
        "\n",
        "translations = {}\n",
        "    # unique elements of the column\n",
        "unique_elements = phone['make'].unique()\n",
        "#print(unique_elements)\n",
        "len(unique_elements)  # 116\n",
        "\n",
        "# TRanslation\n",
        "\n",
        "for element in unique_elements:\n",
        "# add translation to the dictionary\n",
        "    translations[element] = translator.translate(element)\n",
        "    \n",
        "print(translations)\n",
        "\n",
        "#UPdate dataset with translations\n",
        "\n",
        "phone['make'].replace(translations, inplace = True)\n",
        "\n",
        "print(len(phone['make'].unique()))"
      ],
      "execution_count": null,
      "outputs": [
        {
          "output_type": "error",
          "ename": "google_new_transError",
          "evalue": "ignored",
          "traceback": [
            "\u001b[0;31m---------------------------------------------------------------------------\u001b[0m",
            "\u001b[0;31mHTTPError\u001b[0m                                 Traceback (most recent call last)",
            "\u001b[0;32m/usr/local/lib/python3.7/dist-packages/google_trans_new/google_trans_new.py\u001b[0m in \u001b[0;36mtranslate\u001b[0;34m(self, text, lang_tgt, lang_src, pronounce)\u001b[0m\n\u001b[1;32m    188\u001b[0m                         \u001b[0;32mraise\u001b[0m \u001b[0me\u001b[0m\u001b[0;34m\u001b[0m\u001b[0;34m\u001b[0m\u001b[0m\n\u001b[0;32m--> 189\u001b[0;31m             \u001b[0mr\u001b[0m\u001b[0;34m.\u001b[0m\u001b[0mraise_for_status\u001b[0m\u001b[0;34m(\u001b[0m\u001b[0;34m)\u001b[0m\u001b[0;34m\u001b[0m\u001b[0;34m\u001b[0m\u001b[0m\n\u001b[0m\u001b[1;32m    190\u001b[0m         \u001b[0;32mexcept\u001b[0m \u001b[0mrequests\u001b[0m\u001b[0;34m.\u001b[0m\u001b[0mexceptions\u001b[0m\u001b[0;34m.\u001b[0m\u001b[0mConnectTimeout\u001b[0m \u001b[0;32mas\u001b[0m \u001b[0me\u001b[0m\u001b[0;34m:\u001b[0m\u001b[0;34m\u001b[0m\u001b[0;34m\u001b[0m\u001b[0m\n",
            "\u001b[0;32m/usr/local/lib/python3.7/dist-packages/requests/models.py\u001b[0m in \u001b[0;36mraise_for_status\u001b[0;34m(self)\u001b[0m\n\u001b[1;32m    940\u001b[0m         \u001b[0;32mif\u001b[0m \u001b[0mhttp_error_msg\u001b[0m\u001b[0;34m:\u001b[0m\u001b[0;34m\u001b[0m\u001b[0;34m\u001b[0m\u001b[0m\n\u001b[0;32m--> 941\u001b[0;31m             \u001b[0;32mraise\u001b[0m \u001b[0mHTTPError\u001b[0m\u001b[0;34m(\u001b[0m\u001b[0mhttp_error_msg\u001b[0m\u001b[0;34m,\u001b[0m \u001b[0mresponse\u001b[0m\u001b[0;34m=\u001b[0m\u001b[0mself\u001b[0m\u001b[0;34m)\u001b[0m\u001b[0;34m\u001b[0m\u001b[0;34m\u001b[0m\u001b[0m\n\u001b[0m\u001b[1;32m    942\u001b[0m \u001b[0;34m\u001b[0m\u001b[0m\n",
            "\u001b[0;31mHTTPError\u001b[0m: 429 Client Error: Too Many Requests for url: https://www.google.com/sorry/index?continue=https://translate.google.cn/_/TranslateWebserverUi/data/batchexecute&q=EgQiSSKZGISspYUGIhAH3DK069tm4L_T3pXZI1UqMgFy",
            "\nDuring handling of the above exception, another exception occurred:\n",
            "\u001b[0;31mgoogle_new_transError\u001b[0m                     Traceback (most recent call last)",
            "\u001b[0;32m<ipython-input-83-8d55c64ca302>\u001b[0m in \u001b[0;36m<module>\u001b[0;34m()\u001b[0m\n\u001b[1;32m     15\u001b[0m \u001b[0;32mfor\u001b[0m \u001b[0melement\u001b[0m \u001b[0;32min\u001b[0m \u001b[0munique_elements\u001b[0m\u001b[0;34m:\u001b[0m\u001b[0;34m\u001b[0m\u001b[0;34m\u001b[0m\u001b[0m\n\u001b[1;32m     16\u001b[0m \u001b[0;31m# add translation to the dictionary\u001b[0m\u001b[0;34m\u001b[0m\u001b[0;34m\u001b[0m\u001b[0;34m\u001b[0m\u001b[0m\n\u001b[0;32m---> 17\u001b[0;31m     \u001b[0mtranslations\u001b[0m\u001b[0;34m[\u001b[0m\u001b[0melement\u001b[0m\u001b[0;34m]\u001b[0m \u001b[0;34m=\u001b[0m \u001b[0mtranslator\u001b[0m\u001b[0;34m.\u001b[0m\u001b[0mtranslate\u001b[0m\u001b[0;34m(\u001b[0m\u001b[0melement\u001b[0m\u001b[0;34m)\u001b[0m\u001b[0;34m\u001b[0m\u001b[0;34m\u001b[0m\u001b[0m\n\u001b[0m\u001b[1;32m     18\u001b[0m \u001b[0;34m\u001b[0m\u001b[0m\n\u001b[1;32m     19\u001b[0m \u001b[0mprint\u001b[0m\u001b[0;34m(\u001b[0m\u001b[0mtranslations\u001b[0m\u001b[0;34m)\u001b[0m\u001b[0;34m\u001b[0m\u001b[0;34m\u001b[0m\u001b[0m\n",
            "\u001b[0;32m/usr/local/lib/python3.7/dist-packages/google_trans_new/google_trans_new.py\u001b[0m in \u001b[0;36mtranslate\u001b[0;34m(self, text, lang_tgt, lang_src, pronounce)\u001b[0m\n\u001b[1;32m    192\u001b[0m         \u001b[0;32mexcept\u001b[0m \u001b[0mrequests\u001b[0m\u001b[0;34m.\u001b[0m\u001b[0mexceptions\u001b[0m\u001b[0;34m.\u001b[0m\u001b[0mHTTPError\u001b[0m \u001b[0;32mas\u001b[0m \u001b[0me\u001b[0m\u001b[0;34m:\u001b[0m\u001b[0;34m\u001b[0m\u001b[0;34m\u001b[0m\u001b[0m\n\u001b[1;32m    193\u001b[0m             \u001b[0;31m# Request successful, bad response\u001b[0m\u001b[0;34m\u001b[0m\u001b[0;34m\u001b[0m\u001b[0;34m\u001b[0m\u001b[0m\n\u001b[0;32m--> 194\u001b[0;31m             \u001b[0;32mraise\u001b[0m \u001b[0mgoogle_new_transError\u001b[0m\u001b[0;34m(\u001b[0m\u001b[0mtts\u001b[0m\u001b[0;34m=\u001b[0m\u001b[0mself\u001b[0m\u001b[0;34m,\u001b[0m \u001b[0mresponse\u001b[0m\u001b[0;34m=\u001b[0m\u001b[0mr\u001b[0m\u001b[0;34m)\u001b[0m\u001b[0;34m\u001b[0m\u001b[0;34m\u001b[0m\u001b[0m\n\u001b[0m\u001b[1;32m    195\u001b[0m         \u001b[0;32mexcept\u001b[0m \u001b[0mrequests\u001b[0m\u001b[0;34m.\u001b[0m\u001b[0mexceptions\u001b[0m\u001b[0;34m.\u001b[0m\u001b[0mRequestException\u001b[0m \u001b[0;32mas\u001b[0m \u001b[0me\u001b[0m\u001b[0;34m:\u001b[0m\u001b[0;34m\u001b[0m\u001b[0;34m\u001b[0m\u001b[0m\n\u001b[1;32m    196\u001b[0m             \u001b[0;31m# Request failed\u001b[0m\u001b[0;34m\u001b[0m\u001b[0;34m\u001b[0m\u001b[0;34m\u001b[0m\u001b[0m\n",
            "\u001b[0;31mgoogle_new_transError\u001b[0m: 429 (Too Many Requests) from TTS API. Probable cause: Unknown"
          ]
        }
      ]
    },
    {
      "cell_type": "code",
      "metadata": {
        "id": "0tgl-sJ2JEYz"
      },
      "source": [
        "translations1 = {}\n",
        "    \n",
        "unique_elements1 = phone['model'].unique()\n",
        "print(unique_elements1)\n",
        "len(unique_elements1)  "
      ],
      "execution_count": null,
      "outputs": []
    },
    {
      "cell_type": "code",
      "metadata": {
        "id": "PmtboKBSJEYz"
      },
      "source": [
        "for element in unique_elements1:\n",
        "\n",
        "    translations1[element] = translator.translate(element)\n",
        "    \n",
        "#print(translations1)"
      ],
      "execution_count": null,
      "outputs": []
    },
    {
      "cell_type": "code",
      "metadata": {
        "id": "GDjnDtojJEYz",
        "colab": {
          "base_uri": "https://localhost:8080/"
        },
        "outputId": "ec9d3a15-a61c-4d3f-8e00-5fa29298cea2"
      },
      "source": [
        "events_1006.info()"
      ],
      "execution_count": null,
      "outputs": [
        {
          "output_type": "stream",
          "text": [
            "<class 'pandas.core.frame.DataFrame'>\n",
            "Int64Index: 370982 entries, 4 to 3252939\n",
            "Data columns (total 7 columns):\n",
            " #   Column     Non-Null Count   Dtype  \n",
            "---  ------     --------------   -----  \n",
            " 0   event_id   370982 non-null  int64  \n",
            " 1   device_id  370901 non-null  float64\n",
            " 2   timestamp  370982 non-null  object \n",
            " 3   longitude  370916 non-null  float64\n",
            " 4   latitude   370916 non-null  float64\n",
            " 5   city       370982 non-null  object \n",
            " 6   state      370982 non-null  object \n",
            "dtypes: float64(3), int64(1), object(3)\n",
            "memory usage: 22.6+ MB\n"
          ],
          "name": "stdout"
        }
      ]
    },
    {
      "cell_type": "code",
      "metadata": {
        "id": "F2VVTnRwJEYz",
        "colab": {
          "base_uri": "https://localhost:8080/"
        },
        "outputId": "25596413-b811-4321-c673-4db09240bda0"
      },
      "source": [
        "events_1006.isnull().sum()"
      ],
      "execution_count": null,
      "outputs": [
        {
          "output_type": "execute_result",
          "data": {
            "text/plain": [
              "event_id      0\n",
              "device_id    81\n",
              "timestamp     0\n",
              "longitude    66\n",
              "latitude     66\n",
              "city          0\n",
              "state         0\n",
              "dtype: int64"
            ]
          },
          "metadata": {
            "tags": []
          },
          "execution_count": 85
        }
      ]
    },
    {
      "cell_type": "code",
      "metadata": {
        "id": "oww0UO4PJEY0",
        "colab": {
          "base_uri": "https://localhost:8080/"
        },
        "outputId": "bcda5723-7c45-41cf-ccc1-0addf22a87c9"
      },
      "source": [
        "events_1006[events_1006['longitude'].isnull()]['state'].unique()"
      ],
      "execution_count": null,
      "outputs": [
        {
          "output_type": "execute_result",
          "data": {
            "text/plain": [
              "array(['Rajasthan'], dtype=object)"
            ]
          },
          "metadata": {
            "tags": []
          },
          "execution_count": 86
        }
      ]
    },
    {
      "cell_type": "code",
      "metadata": {
        "id": "nFeww_EUJEY0",
        "colab": {
          "base_uri": "https://localhost:8080/"
        },
        "outputId": "b9b405f7-2e34-4493-f33b-0f02acefc278"
      },
      "source": [
        "events_1006[events_1006['longitude'].isnull()]['city'].unique()"
      ],
      "execution_count": null,
      "outputs": [
        {
          "output_type": "execute_result",
          "data": {
            "text/plain": [
              "array(['Jaipur'], dtype=object)"
            ]
          },
          "metadata": {
            "tags": []
          },
          "execution_count": 87
        }
      ]
    },
    {
      "cell_type": "code",
      "metadata": {
        "id": "kTPAOJ11JEY0",
        "colab": {
          "base_uri": "https://localhost:8080/"
        },
        "outputId": "a9d250c6-a71c-41f2-c64c-01f55c36a8ce"
      },
      "source": [
        "Jaipur_latitude_mode = events_1006['latitude'][events_1006['city'] == 'Jaipur'].mode()\n",
        "Jaipur_latitude_mode"
      ],
      "execution_count": null,
      "outputs": [
        {
          "output_type": "execute_result",
          "data": {
            "text/plain": [
              "0    26.949746\n",
              "dtype: float64"
            ]
          },
          "metadata": {
            "tags": []
          },
          "execution_count": 88
        }
      ]
    },
    {
      "cell_type": "code",
      "metadata": {
        "id": "-gSq9xG6JEY0",
        "colab": {
          "base_uri": "https://localhost:8080/"
        },
        "outputId": "57d91c3b-5e28-43f4-cbc5-159153125aae"
      },
      "source": [
        "Jaipur_longitude_mode = events_1006['longitude'][events_1006['city'] == 'Jaipur'].mode()\n",
        "Jaipur_longitude_mode"
      ],
      "execution_count": null,
      "outputs": [
        {
          "output_type": "execute_result",
          "data": {
            "text/plain": [
              "0    75.894057\n",
              "dtype: float64"
            ]
          },
          "metadata": {
            "tags": []
          },
          "execution_count": 89
        }
      ]
    },
    {
      "cell_type": "code",
      "metadata": {
        "id": "shsXi7g1JEY0",
        "colab": {
          "base_uri": "https://localhost:8080/"
        },
        "outputId": "eb0408c7-4f9c-4746-ced2-bd5f5f379fff"
      },
      "source": [
        "events_1006.loc[(events_1006['city'] =='Jaipur') \\\n",
        "                   & (events_1006['longitude'].isnull()),'longitude']= '75.894057'\n",
        "events_1006.loc[(events_1006['city'] =='Jaipur') \\\n",
        "                   & (events_1006['latitude'].isnull()),'latitude']= '26.949746'"
      ],
      "execution_count": null,
      "outputs": [
        {
          "output_type": "stream",
          "text": [
            "/usr/local/lib/python3.7/dist-packages/pandas/core/indexing.py:1763: SettingWithCopyWarning: \n",
            "A value is trying to be set on a copy of a slice from a DataFrame.\n",
            "Try using .loc[row_indexer,col_indexer] = value instead\n",
            "\n",
            "See the caveats in the documentation: https://pandas.pydata.org/pandas-docs/stable/user_guide/indexing.html#returning-a-view-versus-a-copy\n",
            "  isetter(loc, value)\n"
          ],
          "name": "stderr"
        }
      ]
    },
    {
      "cell_type": "code",
      "metadata": {
        "id": "VUz_Xu0NJEY1",
        "colab": {
          "base_uri": "https://localhost:8080/"
        },
        "outputId": "88b48cf6-291f-4ee5-b71f-77d46807c608"
      },
      "source": [
        "events_1006.info()"
      ],
      "execution_count": null,
      "outputs": [
        {
          "output_type": "stream",
          "text": [
            "<class 'pandas.core.frame.DataFrame'>\n",
            "Int64Index: 370982 entries, 4 to 3252939\n",
            "Data columns (total 7 columns):\n",
            " #   Column     Non-Null Count   Dtype  \n",
            "---  ------     --------------   -----  \n",
            " 0   event_id   370982 non-null  int64  \n",
            " 1   device_id  370901 non-null  float64\n",
            " 2   timestamp  370982 non-null  object \n",
            " 3   longitude  370982 non-null  object \n",
            " 4   latitude   370982 non-null  object \n",
            " 5   city       370982 non-null  object \n",
            " 6   state      370982 non-null  object \n",
            "dtypes: float64(1), int64(1), object(5)\n",
            "memory usage: 22.6+ MB\n"
          ],
          "name": "stdout"
        }
      ]
    },
    {
      "cell_type": "code",
      "metadata": {
        "id": "c9zAq29TJEY1",
        "colab": {
          "base_uri": "https://localhost:8080/"
        },
        "outputId": "c3639bc3-6da9-4fae-c49a-3eda959c86df"
      },
      "source": [
        "events_1006['longitude'] = events_1006['longitude'].astype(float)"
      ],
      "execution_count": null,
      "outputs": [
        {
          "output_type": "stream",
          "text": [
            "/usr/local/lib/python3.7/dist-packages/ipykernel_launcher.py:1: SettingWithCopyWarning: \n",
            "A value is trying to be set on a copy of a slice from a DataFrame.\n",
            "Try using .loc[row_indexer,col_indexer] = value instead\n",
            "\n",
            "See the caveats in the documentation: https://pandas.pydata.org/pandas-docs/stable/user_guide/indexing.html#returning-a-view-versus-a-copy\n",
            "  \"\"\"Entry point for launching an IPython kernel.\n"
          ],
          "name": "stderr"
        }
      ]
    },
    {
      "cell_type": "code",
      "metadata": {
        "id": "yEbIMO3zJEY1",
        "colab": {
          "base_uri": "https://localhost:8080/"
        },
        "outputId": "bb2eac0b-93ea-40be-c186-ea3f2cd7c94b"
      },
      "source": [
        "events_1006['latitude'] = events_1006['latitude'].astype(float)"
      ],
      "execution_count": null,
      "outputs": [
        {
          "output_type": "stream",
          "text": [
            "/usr/local/lib/python3.7/dist-packages/ipykernel_launcher.py:1: SettingWithCopyWarning: \n",
            "A value is trying to be set on a copy of a slice from a DataFrame.\n",
            "Try using .loc[row_indexer,col_indexer] = value instead\n",
            "\n",
            "See the caveats in the documentation: https://pandas.pydata.org/pandas-docs/stable/user_guide/indexing.html#returning-a-view-versus-a-copy\n",
            "  \"\"\"Entry point for launching an IPython kernel.\n"
          ],
          "name": "stderr"
        }
      ]
    },
    {
      "cell_type": "code",
      "metadata": {
        "id": "YsrFq4JXJEY1"
      },
      "source": [
        "events_1006.describe()"
      ],
      "execution_count": null,
      "outputs": []
    },
    {
      "cell_type": "code",
      "metadata": {
        "id": "2TVZDBKBJEY1",
        "colab": {
          "base_uri": "https://localhost:8080/"
        },
        "outputId": "2724ba73-c1b0-4e07-80ae-bd7ca96d8115"
      },
      "source": [
        "events_1006.isnull().sum()"
      ],
      "execution_count": null,
      "outputs": [
        {
          "output_type": "execute_result",
          "data": {
            "text/plain": [
              "event_id      0\n",
              "device_id    81\n",
              "timestamp     0\n",
              "longitude     0\n",
              "latitude      0\n",
              "city          0\n",
              "state         0\n",
              "dtype: int64"
            ]
          },
          "metadata": {
            "tags": []
          },
          "execution_count": 94
        }
      ]
    },
    {
      "cell_type": "code",
      "metadata": {
        "id": "YMADEBeEJEY1"
      },
      "source": [
        "import matplotlib.pyplot as plt\n",
        "import seaborn as sns"
      ],
      "execution_count": null,
      "outputs": []
    },
    {
      "cell_type": "code",
      "metadata": {
        "id": "bikP_KOqJEY4",
        "colab": {
          "base_uri": "https://localhost:8080/",
          "height": 353
        },
        "outputId": "d537ddf8-f9c9-4c19-d927-300c3aac6707"
      },
      "source": [
        "plt.figure(figsize=(15,5))\n",
        "lat_box = events_1006.boxplot(column=['longitude'])\n",
        "plt.title('Boxplot of longitude Across Events Data')\n",
        "plt.ylabel(\"# Value\")"
      ],
      "execution_count": null,
      "outputs": [
        {
          "output_type": "execute_result",
          "data": {
            "text/plain": [
              "Text(0, 0.5, '# Value')"
            ]
          },
          "metadata": {
            "tags": []
          },
          "execution_count": 101
        },
        {
          "output_type": "display_data",
          "data": {
            "image/png": "[encoded data removed]",
            "text/plain": [
              "<Figure size 1080x360 with 1 Axes>"
            ]
          },
          "metadata": {
            "tags": [],
            "needs_background": "light"
          }
        }
      ]
    },
    {
      "cell_type": "code",
      "metadata": {
        "id": "ANG0TbrGJEY4",
        "colab": {
          "base_uri": "https://localhost:8080/",
          "height": 49
        },
        "outputId": "13e37a2c-43b2-4695-f4ce-5802feaed3ad"
      },
      "source": [
        "events_1006[events_1006['longitude']<60]"
      ],
      "execution_count": null,
      "outputs": [
        {
          "output_type": "execute_result",
          "data": {
            "text/html": [
              "<div>\n",
              "<style scoped>\n",
              "    .dataframe tbody tr th:only-of-type {\n",
              "        vertical-align: middle;\n",
              "    }\n",
              "\n",
              "    .dataframe tbody tr th {\n",
              "        vertical-align: top;\n",
              "    }\n",
              "\n",
              "    .dataframe thead th {\n",
              "        text-align: right;\n",
              "    }\n",
              "</style>\n",
              "<table border=\"1\" class=\"dataframe\">\n",
              "  <thead>\n",
              "    <tr style=\"text-align: right;\">\n",
              "      <th></th>\n",
              "      <th>event_id</th>\n",
              "      <th>device_id</th>\n",
              "      <th>timestamp</th>\n",
              "      <th>longitude</th>\n",
              "      <th>latitude</th>\n",
              "      <th>city</th>\n",
              "      <th>state</th>\n",
              "    </tr>\n",
              "  </thead>\n",
              "  <tbody>\n",
              "  </tbody>\n",
              "</table>\n",
              "</div>"
            ],
            "text/plain": [
              "Empty DataFrame\n",
              "Columns: [event_id, device_id, timestamp, longitude, latitude, city, state]\n",
              "Index: []"
            ]
          },
          "metadata": {
            "tags": []
          },
          "execution_count": 102
        }
      ]
    },
    {
      "cell_type": "code",
      "metadata": {
        "id": "ijLufKkCJEY5",
        "colab": {
          "base_uri": "https://localhost:8080/",
          "height": 415
        },
        "outputId": "a90ca357-b022-4b83-a9c5-34171f213dea"
      },
      "source": [
        "events_1006[events_1006['longitude']>95]"
      ],
      "execution_count": null,
      "outputs": [
        {
          "output_type": "execute_result",
          "data": {
            "text/html": [
              "<div>\n",
              "<style scoped>\n",
              "    .dataframe tbody tr th:only-of-type {\n",
              "        vertical-align: middle;\n",
              "    }\n",
              "\n",
              "    .dataframe tbody tr th {\n",
              "        vertical-align: top;\n",
              "    }\n",
              "\n",
              "    .dataframe thead th {\n",
              "        text-align: right;\n",
              "    }\n",
              "</style>\n",
              "<table border=\"1\" class=\"dataframe\">\n",
              "  <thead>\n",
              "    <tr style=\"text-align: right;\">\n",
              "      <th></th>\n",
              "      <th>event_id</th>\n",
              "      <th>device_id</th>\n",
              "      <th>timestamp</th>\n",
              "      <th>longitude</th>\n",
              "      <th>latitude</th>\n",
              "      <th>city</th>\n",
              "      <th>state</th>\n",
              "    </tr>\n",
              "  </thead>\n",
              "  <tbody>\n",
              "    <tr>\n",
              "      <th>6414</th>\n",
              "      <td>1574000</td>\n",
              "      <td>-7.520655e+18</td>\n",
              "      <td>2016-05-05 08:20:56</td>\n",
              "      <td>95.407641</td>\n",
              "      <td>27.525724</td>\n",
              "      <td>Tinsukia</td>\n",
              "      <td>Assam</td>\n",
              "    </tr>\n",
              "    <tr>\n",
              "      <th>9226</th>\n",
              "      <td>3138571</td>\n",
              "      <td>6.888665e+18</td>\n",
              "      <td>2016-05-05 14:27:52</td>\n",
              "      <td>95.375416</td>\n",
              "      <td>27.548515</td>\n",
              "      <td>Tinsukia</td>\n",
              "      <td>Assam</td>\n",
              "    </tr>\n",
              "    <tr>\n",
              "      <th>16830</th>\n",
              "      <td>1573447</td>\n",
              "      <td>6.888665e+18</td>\n",
              "      <td>2016-05-03 08:44:57</td>\n",
              "      <td>95.375416</td>\n",
              "      <td>27.548515</td>\n",
              "      <td>Tinsukia</td>\n",
              "      <td>Assam</td>\n",
              "    </tr>\n",
              "    <tr>\n",
              "      <th>21468</th>\n",
              "      <td>383503</td>\n",
              "      <td>5.104017e+18</td>\n",
              "      <td>2016-05-01 15:42:46</td>\n",
              "      <td>95.372990</td>\n",
              "      <td>27.553291</td>\n",
              "      <td>Tinsukia</td>\n",
              "      <td>Assam</td>\n",
              "    </tr>\n",
              "    <tr>\n",
              "      <th>32093</th>\n",
              "      <td>1220216</td>\n",
              "      <td>5.104017e+18</td>\n",
              "      <td>2016-05-05 07:28:01</td>\n",
              "      <td>95.372990</td>\n",
              "      <td>27.553291</td>\n",
              "      <td>Tinsukia</td>\n",
              "      <td>Assam</td>\n",
              "    </tr>\n",
              "    <tr>\n",
              "      <th>...</th>\n",
              "      <td>...</td>\n",
              "      <td>...</td>\n",
              "      <td>...</td>\n",
              "      <td>...</td>\n",
              "      <td>...</td>\n",
              "      <td>...</td>\n",
              "      <td>...</td>\n",
              "    </tr>\n",
              "    <tr>\n",
              "      <th>3222940</th>\n",
              "      <td>1554403</td>\n",
              "      <td>1.532677e+18</td>\n",
              "      <td>2016-05-05 17:09:26</td>\n",
              "      <td>95.422171</td>\n",
              "      <td>27.536170</td>\n",
              "      <td>Tinsukia</td>\n",
              "      <td>Assam</td>\n",
              "    </tr>\n",
              "    <tr>\n",
              "      <th>3223203</th>\n",
              "      <td>2992127</td>\n",
              "      <td>6.888665e+18</td>\n",
              "      <td>2016-05-03 08:45:28</td>\n",
              "      <td>95.375416</td>\n",
              "      <td>27.548515</td>\n",
              "      <td>Tinsukia</td>\n",
              "      <td>Assam</td>\n",
              "    </tr>\n",
              "    <tr>\n",
              "      <th>3227718</th>\n",
              "      <td>1876383</td>\n",
              "      <td>-6.175495e+18</td>\n",
              "      <td>2016-05-01 10:55:06</td>\n",
              "      <td>95.393036</td>\n",
              "      <td>27.549432</td>\n",
              "      <td>Tinsukia</td>\n",
              "      <td>Assam</td>\n",
              "    </tr>\n",
              "    <tr>\n",
              "      <th>3239735</th>\n",
              "      <td>2803054</td>\n",
              "      <td>1.532677e+18</td>\n",
              "      <td>2016-05-06 11:12:59</td>\n",
              "      <td>95.422171</td>\n",
              "      <td>27.536170</td>\n",
              "      <td>Tinsukia</td>\n",
              "      <td>Assam</td>\n",
              "    </tr>\n",
              "    <tr>\n",
              "      <th>3240142</th>\n",
              "      <td>121643</td>\n",
              "      <td>-8.334711e+18</td>\n",
              "      <td>2016-05-03 02:46:46</td>\n",
              "      <td>95.000921</td>\n",
              "      <td>27.575688</td>\n",
              "      <td>Dibrugarh</td>\n",
              "      <td>Assam</td>\n",
              "    </tr>\n",
              "  </tbody>\n",
              "</table>\n",
              "<p>669 rows × 7 columns</p>\n",
              "</div>"
            ],
            "text/plain": [
              "         event_id     device_id  ...       city  state\n",
              "6414      1574000 -7.520655e+18  ...   Tinsukia  Assam\n",
              "9226      3138571  6.888665e+18  ...   Tinsukia  Assam\n",
              "16830     1573447  6.888665e+18  ...   Tinsukia  Assam\n",
              "21468      383503  5.104017e+18  ...   Tinsukia  Assam\n",
              "32093     1220216  5.104017e+18  ...   Tinsukia  Assam\n",
              "...           ...           ...  ...        ...    ...\n",
              "3222940   1554403  1.532677e+18  ...   Tinsukia  Assam\n",
              "3223203   2992127  6.888665e+18  ...   Tinsukia  Assam\n",
              "3227718   1876383 -6.175495e+18  ...   Tinsukia  Assam\n",
              "3239735   2803054  1.532677e+18  ...   Tinsukia  Assam\n",
              "3240142    121643 -8.334711e+18  ...  Dibrugarh  Assam\n",
              "\n",
              "[669 rows x 7 columns]"
            ]
          },
          "metadata": {
            "tags": []
          },
          "execution_count": 103
        }
      ]
    },
    {
      "cell_type": "code",
      "metadata": {
        "id": "Rp9tyMymJEY5",
        "colab": {
          "base_uri": "https://localhost:8080/"
        },
        "outputId": "9b603404-02b0-4936-8627-61f70a376767"
      },
      "source": [
        "lat_out = events_1006[events_1006['longitude']>95]['city'].value_counts()\n",
        "lat_out"
      ],
      "execution_count": null,
      "outputs": [
        {
          "output_type": "execute_result",
          "data": {
            "text/plain": [
              "Tinsukia     619\n",
              "Dibrugarh     50\n",
              "Name: city, dtype: int64"
            ]
          },
          "metadata": {
            "tags": []
          },
          "execution_count": 104
        }
      ]
    },
    {
      "cell_type": "code",
      "metadata": {
        "id": "v4NS5oUCJEY5",
        "colab": {
          "base_uri": "https://localhost:8080/"
        },
        "outputId": "45444244-8ea0-4878-c04d-52ef345e73fd"
      },
      "source": [
        "Tinsukia_longitude_mode = events_1006['longitude'][events_1006['city'] == 'Tinsukia'].mode()\n",
        "Tinsukia_longitude_mode"
      ],
      "execution_count": null,
      "outputs": [
        {
          "output_type": "execute_result",
          "data": {
            "text/plain": [
              "0    95.375416\n",
              "dtype: float64"
            ]
          },
          "metadata": {
            "tags": []
          },
          "execution_count": 105
        }
      ]
    },
    {
      "cell_type": "code",
      "metadata": {
        "id": "oT4-dv3PJEY5",
        "colab": {
          "base_uri": "https://localhost:8080/"
        },
        "outputId": "c6490610-f542-4f2f-bd7d-e9b3917681b0"
      },
      "source": [
        "Dibrugarh_longitude_mode = events_1006['longitude'][events_1006['city'] == 'Dibrugarh'].mode()\n",
        "Dibrugarh_longitude_mode"
      ],
      "execution_count": null,
      "outputs": [
        {
          "output_type": "execute_result",
          "data": {
            "text/plain": [
              "0    94.984669\n",
              "dtype: float64"
            ]
          },
          "metadata": {
            "tags": []
          },
          "execution_count": 106
        }
      ]
    },
    {
      "cell_type": "code",
      "metadata": {
        "id": "3z1rzr8rJEY6"
      },
      "source": [
        "mylist1 = events_1006[(events_1006['longitude']<60) \\\n",
        "                         & (events_1006['city']=='Bari')]['event_id'].index.to_list()\n",
        "for i in mylist1:\n",
        "    events_1006.at[i,'longitude']=events_1006[events_1006['city']=='Bari']['longitude'].mode()\n",
        "    \n",
        "mylist2 = events_1006[(events_1006['longitude']<60) \\\n",
        "                         & (events_1006['city']=='Jaipur')]['event_id'].index.to_list()\n",
        "for i in mylist2:\n",
        "    events_1006.at[i,'longitude']=events_1006[events_1006['city']=='Jaipur']['longitude'].mode()"
      ],
      "execution_count": null,
      "outputs": []
    },
    {
      "cell_type": "code",
      "metadata": {
        "id": "5WZyHBEzJEY6",
        "colab": {
          "base_uri": "https://localhost:8080/",
          "height": 343
        },
        "outputId": "a687e2c9-0dfe-4847-c1c1-6adf291e8f63"
      },
      "source": [
        "plt.figure(figsize=(15,5))\n",
        "lat_box1 = events_1006.boxplot(column=['longitude'])\n",
        "plt.title('Boxplot of longitude Across Events Data')\n",
        "plt.ylabel(\"# Value\")"
      ],
      "execution_count": null,
      "outputs": [
        {
          "output_type": "execute_result",
          "data": {
            "text/plain": [
              "Text(0, 0.5, '# Value')"
            ]
          },
          "metadata": {
            "tags": []
          },
          "execution_count": 108
        },
        {
          "output_type": "display_data",
          "data": {
            "image/png": "[encoded data removed]",
            "text/plain": [
              "<Figure size 1080x360 with 1 Axes>"
            ]
          },
          "metadata": {
            "tags": [],
            "needs_background": "light"
          }
        }
      ]
    },
    {
      "cell_type": "code",
      "metadata": {
        "id": "OD4kVUn-JEY6",
        "colab": {
          "base_uri": "https://localhost:8080/",
          "height": 343
        },
        "outputId": "70c44c18-5cd5-44c9-d59c-1cdba0f6d2f5"
      },
      "source": [
        "plt.figure(figsize=(15,5))\n",
        "lat_box = events_1006.boxplot(column=['latitude'])\n",
        "plt.title('Boxplot of Latitude Across Events Data')\n",
        "plt.ylabel(\"# Value\")"
      ],
      "execution_count": null,
      "outputs": [
        {
          "output_type": "execute_result",
          "data": {
            "text/plain": [
              "Text(0, 0.5, '# Value')"
            ]
          },
          "metadata": {
            "tags": []
          },
          "execution_count": 109
        },
        {
          "output_type": "display_data",
          "data": {
            "image/png": "[encoded data removed]",
            "text/plain": [
              "<Figure size 1080x360 with 1 Axes>"
            ]
          },
          "metadata": {
            "tags": [],
            "needs_background": "light"
          }
        }
      ]
    },
    {
      "cell_type": "code",
      "metadata": {
        "id": "DEZ0c3T_JEY7",
        "colab": {
          "base_uri": "https://localhost:8080/",
          "height": 233
        },
        "outputId": "10d047d4-c9eb-4ef9-a31c-27846fd8a9da"
      },
      "source": [
        "events_1006[events_1006['latitude']>33]"
      ],
      "execution_count": null,
      "outputs": [
        {
          "output_type": "execute_result",
          "data": {
            "text/html": [
              "<div>\n",
              "<style scoped>\n",
              "    .dataframe tbody tr th:only-of-type {\n",
              "        vertical-align: middle;\n",
              "    }\n",
              "\n",
              "    .dataframe tbody tr th {\n",
              "        vertical-align: top;\n",
              "    }\n",
              "\n",
              "    .dataframe thead th {\n",
              "        text-align: right;\n",
              "    }\n",
              "</style>\n",
              "<table border=\"1\" class=\"dataframe\">\n",
              "  <thead>\n",
              "    <tr style=\"text-align: right;\">\n",
              "      <th></th>\n",
              "      <th>event_id</th>\n",
              "      <th>device_id</th>\n",
              "      <th>timestamp</th>\n",
              "      <th>longitude</th>\n",
              "      <th>latitude</th>\n",
              "      <th>city</th>\n",
              "      <th>state</th>\n",
              "    </tr>\n",
              "  </thead>\n",
              "  <tbody>\n",
              "    <tr>\n",
              "      <th>82827</th>\n",
              "      <td>170433</td>\n",
              "      <td>4.718753e+18</td>\n",
              "      <td>2016-05-07 01:39:40</td>\n",
              "      <td>75.894057</td>\n",
              "      <td>41.8719</td>\n",
              "      <td>Jaipur</td>\n",
              "      <td>Rajasthan</td>\n",
              "    </tr>\n",
              "    <tr>\n",
              "      <th>1598260</th>\n",
              "      <td>3228359</td>\n",
              "      <td>4.718753e+18</td>\n",
              "      <td>2016-05-02 11:50:26</td>\n",
              "      <td>75.894057</td>\n",
              "      <td>41.8719</td>\n",
              "      <td>Jaipur</td>\n",
              "      <td>Rajasthan</td>\n",
              "    </tr>\n",
              "    <tr>\n",
              "      <th>1691284</th>\n",
              "      <td>252730</td>\n",
              "      <td>-3.693511e+18</td>\n",
              "      <td>2016-05-04 15:13:00</td>\n",
              "      <td>69.207500</td>\n",
              "      <td>34.5553</td>\n",
              "      <td>Jaipur</td>\n",
              "      <td>Rajasthan</td>\n",
              "    </tr>\n",
              "    <tr>\n",
              "      <th>2029146</th>\n",
              "      <td>3188661</td>\n",
              "      <td>4.718753e+18</td>\n",
              "      <td>2016-05-07 16:08:20</td>\n",
              "      <td>75.894057</td>\n",
              "      <td>41.8719</td>\n",
              "      <td>Jaipur</td>\n",
              "      <td>Rajasthan</td>\n",
              "    </tr>\n",
              "    <tr>\n",
              "      <th>2244458</th>\n",
              "      <td>3195812</td>\n",
              "      <td>-3.693511e+18</td>\n",
              "      <td>2016-05-07 12:15:05</td>\n",
              "      <td>69.207500</td>\n",
              "      <td>34.5553</td>\n",
              "      <td>Jaipur</td>\n",
              "      <td>Rajasthan</td>\n",
              "    </tr>\n",
              "    <tr>\n",
              "      <th>2838297</th>\n",
              "      <td>3223664</td>\n",
              "      <td>-3.693511e+18</td>\n",
              "      <td>2016-05-01 07:59:07</td>\n",
              "      <td>69.207500</td>\n",
              "      <td>34.5553</td>\n",
              "      <td>Jaipur</td>\n",
              "      <td>Rajasthan</td>\n",
              "    </tr>\n",
              "  </tbody>\n",
              "</table>\n",
              "</div>"
            ],
            "text/plain": [
              "         event_id     device_id  ...    city      state\n",
              "82827      170433  4.718753e+18  ...  Jaipur  Rajasthan\n",
              "1598260   3228359  4.718753e+18  ...  Jaipur  Rajasthan\n",
              "1691284    252730 -3.693511e+18  ...  Jaipur  Rajasthan\n",
              "2029146   3188661  4.718753e+18  ...  Jaipur  Rajasthan\n",
              "2244458   3195812 -3.693511e+18  ...  Jaipur  Rajasthan\n",
              "2838297   3223664 -3.693511e+18  ...  Jaipur  Rajasthan\n",
              "\n",
              "[6 rows x 7 columns]"
            ]
          },
          "metadata": {
            "tags": []
          },
          "execution_count": 111
        }
      ]
    },
    {
      "cell_type": "code",
      "metadata": {
        "id": "csii6piUJEY7"
      },
      "source": [
        "events_1006[events_1006['latitude']<17]"
      ],
      "execution_count": null,
      "outputs": []
    },
    {
      "cell_type": "code",
      "metadata": {
        "id": "OHxqJbmhJEY7"
      },
      "source": [
        "mylist3 = events_1006[(events_1006['latitude']>33) \\\n",
        "                         & (events_1006['city']=='Jaipur')]['event_id'].index.to_list()\n",
        "for i in mylist1:\n",
        "    events_1006.at[i,'latitude']=events_1006[events_1006['city']=='Jaipur']['latitude'].mode()"
      ],
      "execution_count": null,
      "outputs": []
    },
    {
      "cell_type": "code",
      "metadata": {
        "id": "cAjcXwwUJEY7",
        "colab": {
          "base_uri": "https://localhost:8080/",
          "height": 326
        },
        "outputId": "d9dbc378-e8e0-4568-ff65-f9c20423c6f0"
      },
      "source": [
        "plt.figure(figsize=(15,5))\n",
        "lat_box1 = events_1006.boxplot(column=['latitude'])\n",
        "plt.title('Boxplot of Latitude Across Events Data')\n",
        "plt.ylabel(\"# Value\")"
      ],
      "execution_count": null,
      "outputs": [
        {
          "output_type": "display_data",
          "data": {
            "image/png": "[encoded data removed]",
            "text/plain": [
              "<Figure size 1080x360 with 1 Axes>"
            ]
          },
          "metadata": {
            "tags": [],
            "needs_background": "light"
          }
        }
      ]
    },
    {
      "cell_type": "code",
      "metadata": {
        "id": "y0fc3ULOJEY8",
        "colab": {
          "base_uri": "https://localhost:8080/",
          "height": 233
        },
        "outputId": "bbfc83d7-1128-4ae1-f215-c8bd79611e30"
      },
      "source": [
        "events_1006[events_1006['latitude']>33]"
      ],
      "execution_count": null,
      "outputs": [
        {
          "output_type": "execute_result",
          "data": {
            "text/html": [
              "<div>\n",
              "<style scoped>\n",
              "    .dataframe tbody tr th:only-of-type {\n",
              "        vertical-align: middle;\n",
              "    }\n",
              "\n",
              "    .dataframe tbody tr th {\n",
              "        vertical-align: top;\n",
              "    }\n",
              "\n",
              "    .dataframe thead th {\n",
              "        text-align: right;\n",
              "    }\n",
              "</style>\n",
              "<table border=\"1\" class=\"dataframe\">\n",
              "  <thead>\n",
              "    <tr style=\"text-align: right;\">\n",
              "      <th></th>\n",
              "      <th>event_id</th>\n",
              "      <th>device_id</th>\n",
              "      <th>timestamp</th>\n",
              "      <th>longitude</th>\n",
              "      <th>latitude</th>\n",
              "      <th>city</th>\n",
              "      <th>state</th>\n",
              "    </tr>\n",
              "  </thead>\n",
              "  <tbody>\n",
              "    <tr>\n",
              "      <th>82827</th>\n",
              "      <td>170433</td>\n",
              "      <td>4.718753e+18</td>\n",
              "      <td>2016-05-07 01:39:40</td>\n",
              "      <td>75.894057</td>\n",
              "      <td>41.8719</td>\n",
              "      <td>Jaipur</td>\n",
              "      <td>Rajasthan</td>\n",
              "    </tr>\n",
              "    <tr>\n",
              "      <th>1598260</th>\n",
              "      <td>3228359</td>\n",
              "      <td>4.718753e+18</td>\n",
              "      <td>2016-05-02 11:50:26</td>\n",
              "      <td>75.894057</td>\n",
              "      <td>41.8719</td>\n",
              "      <td>Jaipur</td>\n",
              "      <td>Rajasthan</td>\n",
              "    </tr>\n",
              "    <tr>\n",
              "      <th>1691284</th>\n",
              "      <td>252730</td>\n",
              "      <td>-3.693511e+18</td>\n",
              "      <td>2016-05-04 15:13:00</td>\n",
              "      <td>69.207500</td>\n",
              "      <td>34.5553</td>\n",
              "      <td>Jaipur</td>\n",
              "      <td>Rajasthan</td>\n",
              "    </tr>\n",
              "    <tr>\n",
              "      <th>2029146</th>\n",
              "      <td>3188661</td>\n",
              "      <td>4.718753e+18</td>\n",
              "      <td>2016-05-07 16:08:20</td>\n",
              "      <td>75.894057</td>\n",
              "      <td>41.8719</td>\n",
              "      <td>Jaipur</td>\n",
              "      <td>Rajasthan</td>\n",
              "    </tr>\n",
              "    <tr>\n",
              "      <th>2244458</th>\n",
              "      <td>3195812</td>\n",
              "      <td>-3.693511e+18</td>\n",
              "      <td>2016-05-07 12:15:05</td>\n",
              "      <td>69.207500</td>\n",
              "      <td>34.5553</td>\n",
              "      <td>Jaipur</td>\n",
              "      <td>Rajasthan</td>\n",
              "    </tr>\n",
              "    <tr>\n",
              "      <th>2838297</th>\n",
              "      <td>3223664</td>\n",
              "      <td>-3.693511e+18</td>\n",
              "      <td>2016-05-01 07:59:07</td>\n",
              "      <td>69.207500</td>\n",
              "      <td>34.5553</td>\n",
              "      <td>Jaipur</td>\n",
              "      <td>Rajasthan</td>\n",
              "    </tr>\n",
              "  </tbody>\n",
              "</table>\n",
              "</div>"
            ],
            "text/plain": [
              "         event_id     device_id  ...    city      state\n",
              "82827      170433  4.718753e+18  ...  Jaipur  Rajasthan\n",
              "1598260   3228359  4.718753e+18  ...  Jaipur  Rajasthan\n",
              "1691284    252730 -3.693511e+18  ...  Jaipur  Rajasthan\n",
              "2029146   3188661  4.718753e+18  ...  Jaipur  Rajasthan\n",
              "2244458   3195812 -3.693511e+18  ...  Jaipur  Rajasthan\n",
              "2838297   3223664 -3.693511e+18  ...  Jaipur  Rajasthan\n",
              "\n",
              "[6 rows x 7 columns]"
            ]
          },
          "metadata": {
            "tags": []
          },
          "execution_count": 115
        }
      ]
    },
    {
      "cell_type": "code",
      "metadata": {
        "id": "wVdH7oN6JEY8"
      },
      "source": [
        "mylist3 = events_1006[(events_1006['latitude']>33) \\\n",
        "                         & (events_1006['city']=='Jaipur')]['event_id'].index.to_list()\n",
        "for i in mylist1:\n",
        "    events_1006.at[i,'latitude']=events_1006[events_1006['city']=='Jaipur']['latitude'].mode()"
      ],
      "execution_count": null,
      "outputs": []
    },
    {
      "cell_type": "code",
      "metadata": {
        "id": "uFgM7t60JEY8",
        "colab": {
          "base_uri": "https://localhost:8080/"
        },
        "outputId": "19565b43-573c-42bf-8e9f-2ec148ba1bfc"
      },
      "source": [
        "events_1006.isnull().sum()"
      ],
      "execution_count": null,
      "outputs": [
        {
          "output_type": "execute_result",
          "data": {
            "text/plain": [
              "event_id      0\n",
              "device_id    81\n",
              "timestamp     0\n",
              "longitude     0\n",
              "latitude      0\n",
              "city          0\n",
              "state         0\n",
              "dtype: int64"
            ]
          },
          "metadata": {
            "tags": []
          },
          "execution_count": 117
        }
      ]
    },
    {
      "cell_type": "code",
      "metadata": {
        "id": "PwDW26qEJEY8",
        "colab": {
          "base_uri": "https://localhost:8080/"
        },
        "outputId": "f693f00c-23a4-4543-a2f8-1d16cad82c99"
      },
      "source": [
        "events_1006[events_1006['device_id'].isnull()]['state'].unique()"
      ],
      "execution_count": null,
      "outputs": [
        {
          "output_type": "execute_result",
          "data": {
            "text/plain": [
              "array(['Rajasthan'], dtype=object)"
            ]
          },
          "metadata": {
            "tags": []
          },
          "execution_count": 118
        }
      ]
    },
    {
      "cell_type": "code",
      "metadata": {
        "id": "-7NsKxYlJEY8",
        "colab": {
          "base_uri": "https://localhost:8080/"
        },
        "outputId": "01a7fc98-4af5-4376-e9f5-35bea84259f8"
      },
      "source": [
        "events_1006[events_1006['device_id'].isnull()]['city'].unique()"
      ],
      "execution_count": null,
      "outputs": [
        {
          "output_type": "execute_result",
          "data": {
            "text/plain": [
              "array(['Jaipur'], dtype=object)"
            ]
          },
          "metadata": {
            "tags": []
          },
          "execution_count": 119
        }
      ]
    },
    {
      "cell_type": "code",
      "metadata": {
        "id": "Lg3YemjIJEY8",
        "colab": {
          "base_uri": "https://localhost:8080/"
        },
        "outputId": "b400216c-47b3-4a15-f9c9-0d2c26abb0a8"
      },
      "source": [
        "events_1006['device_id'][events_1006['city']=='Jaipur'].mode()"
      ],
      "execution_count": null,
      "outputs": [
        {
          "output_type": "execute_result",
          "data": {
            "text/plain": [
              "0   -5.330179e+18\n",
              "dtype: float64"
            ]
          },
          "metadata": {
            "tags": []
          },
          "execution_count": 120
        }
      ]
    },
    {
      "cell_type": "code",
      "metadata": {
        "id": "b_m3sM03JEY9",
        "colab": {
          "base_uri": "https://localhost:8080/"
        },
        "outputId": "db5c0988-e55d-48a3-d534-0819c82ea37c"
      },
      "source": [
        "events_1006.loc[(events_1006['city'] =='Jaipur') \\\n",
        "                   & (events_1006['device_id'].isnull()),'device_id']= '-5.330179e+18'"
      ],
      "execution_count": null,
      "outputs": [
        {
          "output_type": "stream",
          "text": [
            "/usr/local/lib/python3.7/dist-packages/pandas/core/indexing.py:1763: SettingWithCopyWarning: \n",
            "A value is trying to be set on a copy of a slice from a DataFrame.\n",
            "Try using .loc[row_indexer,col_indexer] = value instead\n",
            "\n",
            "See the caveats in the documentation: https://pandas.pydata.org/pandas-docs/stable/user_guide/indexing.html#returning-a-view-versus-a-copy\n",
            "  isetter(loc, value)\n"
          ],
          "name": "stderr"
        }
      ]
    },
    {
      "cell_type": "code",
      "metadata": {
        "id": "nRftHmzYJEY9",
        "colab": {
          "base_uri": "https://localhost:8080/"
        },
        "outputId": "a8627c70-70e0-4d2c-dced-05f78dc9a0f3"
      },
      "source": [
        "events_1006.isnull().sum()"
      ],
      "execution_count": null,
      "outputs": [
        {
          "output_type": "execute_result",
          "data": {
            "text/plain": [
              "event_id     0\n",
              "device_id    0\n",
              "timestamp    0\n",
              "longitude    0\n",
              "latitude     0\n",
              "city         0\n",
              "state        0\n",
              "dtype: int64"
            ]
          },
          "metadata": {
            "tags": []
          },
          "execution_count": 122
        }
      ]
    },
    {
      "cell_type": "code",
      "metadata": {
        "id": "07I6Gbs_JEY9"
      },
      "source": [
        "gender['device_id']=gender['device_id'].astype(float)"
      ],
      "execution_count": null,
      "outputs": []
    },
    {
      "cell_type": "code",
      "metadata": {
        "id": "dh-8iX9uJEY9"
      },
      "source": [
        "phone['device_id']=phone['device_id'].astype(float)"
      ],
      "execution_count": null,
      "outputs": []
    },
    {
      "cell_type": "code",
      "metadata": {
        "id": "w-uxKK6uJEY9",
        "colab": {
          "base_uri": "https://localhost:8080/"
        },
        "outputId": "515d5ae4-0a9e-438d-810a-60ced2a6b83d"
      },
      "source": [
        "events_1006['device_id']=events_1006['device_id'].astype(float)"
      ],
      "execution_count": null,
      "outputs": [
        {
          "output_type": "stream",
          "text": [
            "/usr/local/lib/python3.7/dist-packages/ipykernel_launcher.py:1: SettingWithCopyWarning: \n",
            "A value is trying to be set on a copy of a slice from a DataFrame.\n",
            "Try using .loc[row_indexer,col_indexer] = value instead\n",
            "\n",
            "See the caveats in the documentation: https://pandas.pydata.org/pandas-docs/stable/user_guide/indexing.html#returning-a-view-versus-a-copy\n",
            "  \"\"\"Entry point for launching an IPython kernel.\n"
          ],
          "name": "stderr"
        }
      ]
    },
    {
      "cell_type": "code",
      "metadata": {
        "id": "Sl3kVB7OJEY-"
      },
      "source": [
        "df_final = events_1006.merge(phone,on='device_id').merge(gender,on='device_id')"
      ],
      "execution_count": null,
      "outputs": []
    },
    {
      "cell_type": "markdown",
      "metadata": {
        "id": "BOQsHoYdOrTo"
      },
      "source": [
        ""
      ]
    },
    {
      "cell_type": "code",
      "metadata": {
        "id": "Wvk5VVjaJEY-",
        "colab": {
          "base_uri": "https://localhost:8080/"
        },
        "outputId": "85c67a26-9b01-4ce3-f70d-223a9a4ac73b"
      },
      "source": [
        "df_final.shape"
      ],
      "execution_count": null,
      "outputs": [
        {
          "output_type": "execute_result",
          "data": {
            "text/plain": [
              "(370901, 12)"
            ]
          },
          "metadata": {
            "tags": []
          },
          "execution_count": 127
        }
      ]
    },
    {
      "cell_type": "code",
      "metadata": {
        "colab": {
          "base_uri": "https://localhost:8080/",
          "height": 395
        },
        "id": "s6RZ-up_JEY-",
        "outputId": "50ce090f-d63e-4ccb-b740-1618448f0f69"
      },
      "source": [
        "df_final.head()"
      ],
      "execution_count": null,
      "outputs": [
        {
          "output_type": "execute_result",
          "data": {
            "text/html": [
              "<div>\n",
              "<style scoped>\n",
              "    .dataframe tbody tr th:only-of-type {\n",
              "        vertical-align: middle;\n",
              "    }\n",
              "\n",
              "    .dataframe tbody tr th {\n",
              "        vertical-align: top;\n",
              "    }\n",
              "\n",
              "    .dataframe thead th {\n",
              "        text-align: right;\n",
              "    }\n",
              "</style>\n",
              "<table border=\"1\" class=\"dataframe\">\n",
              "  <thead>\n",
              "    <tr style=\"text-align: right;\">\n",
              "      <th></th>\n",
              "      <th>event_id</th>\n",
              "      <th>device_id</th>\n",
              "      <th>timestamp</th>\n",
              "      <th>longitude</th>\n",
              "      <th>latitude</th>\n",
              "      <th>city</th>\n",
              "      <th>state</th>\n",
              "      <th>make</th>\n",
              "      <th>model</th>\n",
              "      <th>gender</th>\n",
              "      <th>age</th>\n",
              "      <th>age_group</th>\n",
              "    </tr>\n",
              "  </thead>\n",
              "  <tbody>\n",
              "    <tr>\n",
              "      <th>0</th>\n",
              "      <td>665740</td>\n",
              "      <td>3.388880e+17</td>\n",
              "      <td>2016-05-06 03:51:05</td>\n",
              "      <td>85.997745</td>\n",
              "      <td>23.842609</td>\n",
              "      <td>Bokaro</td>\n",
              "      <td>Jharkhand</td>\n",
              "      <td>小米</td>\n",
              "      <td>MI 4</td>\n",
              "      <td>M</td>\n",
              "      <td>30</td>\n",
              "      <td>M29-31</td>\n",
              "    </tr>\n",
              "    <tr>\n",
              "      <th>1</th>\n",
              "      <td>2386347</td>\n",
              "      <td>3.388880e+17</td>\n",
              "      <td>2016-05-06 05:00:17</td>\n",
              "      <td>85.997745</td>\n",
              "      <td>23.842609</td>\n",
              "      <td>Bokaro</td>\n",
              "      <td>Jharkhand</td>\n",
              "      <td>小米</td>\n",
              "      <td>MI 4</td>\n",
              "      <td>M</td>\n",
              "      <td>30</td>\n",
              "      <td>M29-31</td>\n",
              "    </tr>\n",
              "    <tr>\n",
              "      <th>2</th>\n",
              "      <td>2246062</td>\n",
              "      <td>3.388880e+17</td>\n",
              "      <td>2016-05-03 19:16:13</td>\n",
              "      <td>85.997745</td>\n",
              "      <td>23.842609</td>\n",
              "      <td>Bokaro</td>\n",
              "      <td>Jharkhand</td>\n",
              "      <td>小米</td>\n",
              "      <td>MI 4</td>\n",
              "      <td>M</td>\n",
              "      <td>30</td>\n",
              "      <td>M29-31</td>\n",
              "    </tr>\n",
              "    <tr>\n",
              "      <th>3</th>\n",
              "      <td>1895659</td>\n",
              "      <td>3.388880e+17</td>\n",
              "      <td>2016-05-02 12:40:16</td>\n",
              "      <td>85.997745</td>\n",
              "      <td>23.842609</td>\n",
              "      <td>Bokaro</td>\n",
              "      <td>Jharkhand</td>\n",
              "      <td>小米</td>\n",
              "      <td>MI 4</td>\n",
              "      <td>M</td>\n",
              "      <td>30</td>\n",
              "      <td>M29-31</td>\n",
              "    </tr>\n",
              "    <tr>\n",
              "      <th>4</th>\n",
              "      <td>501580</td>\n",
              "      <td>3.388880e+17</td>\n",
              "      <td>2016-05-06 14:26:43</td>\n",
              "      <td>85.997745</td>\n",
              "      <td>23.842609</td>\n",
              "      <td>Bokaro</td>\n",
              "      <td>Jharkhand</td>\n",
              "      <td>小米</td>\n",
              "      <td>MI 4</td>\n",
              "      <td>M</td>\n",
              "      <td>30</td>\n",
              "      <td>M29-31</td>\n",
              "    </tr>\n",
              "  </tbody>\n",
              "</table>\n",
              "</div>"
            ],
            "text/plain": [
              "   event_id     device_id            timestamp  ...  gender  age age_group\n",
              "0    665740  3.388880e+17  2016-05-06 03:51:05  ...       M   30    M29-31\n",
              "1   2386347  3.388880e+17  2016-05-06 05:00:17  ...       M   30    M29-31\n",
              "2   2246062  3.388880e+17  2016-05-03 19:16:13  ...       M   30    M29-31\n",
              "3   1895659  3.388880e+17  2016-05-02 12:40:16  ...       M   30    M29-31\n",
              "4    501580  3.388880e+17  2016-05-06 14:26:43  ...       M   30    M29-31\n",
              "\n",
              "[5 rows x 12 columns]"
            ]
          },
          "metadata": {
            "tags": []
          },
          "execution_count": 128
        }
      ]
    },
    {
      "cell_type": "code",
      "metadata": {
        "id": "R_BFh3zKJEY-"
      },
      "source": [
        "df_final['device_id'] = df_final['device_id'].apply(np.int64)"
      ],
      "execution_count": null,
      "outputs": []
    },
    {
      "cell_type": "code",
      "metadata": {
        "colab": {
          "base_uri": "https://localhost:8080/",
          "height": 204
        },
        "id": "VMSAVGnmJEY-",
        "outputId": "88f94587-ba5f-4078-93cb-98b664c092f8"
      },
      "source": [
        "df_final.head()"
      ],
      "execution_count": null,
      "outputs": [
        {
          "output_type": "execute_result",
          "data": {
            "text/html": [
              "<div>\n",
              "<style scoped>\n",
              "    .dataframe tbody tr th:only-of-type {\n",
              "        vertical-align: middle;\n",
              "    }\n",
              "\n",
              "    .dataframe tbody tr th {\n",
              "        vertical-align: top;\n",
              "    }\n",
              "\n",
              "    .dataframe thead th {\n",
              "        text-align: right;\n",
              "    }\n",
              "</style>\n",
              "<table border=\"1\" class=\"dataframe\">\n",
              "  <thead>\n",
              "    <tr style=\"text-align: right;\">\n",
              "      <th></th>\n",
              "      <th>event_id</th>\n",
              "      <th>device_id</th>\n",
              "      <th>timestamp</th>\n",
              "      <th>longitude</th>\n",
              "      <th>latitude</th>\n",
              "      <th>city</th>\n",
              "      <th>state</th>\n",
              "      <th>make</th>\n",
              "      <th>model</th>\n",
              "      <th>gender</th>\n",
              "      <th>age</th>\n",
              "      <th>age_group</th>\n",
              "    </tr>\n",
              "  </thead>\n",
              "  <tbody>\n",
              "    <tr>\n",
              "      <th>0</th>\n",
              "      <td>665740</td>\n",
              "      <td>338888002570799936</td>\n",
              "      <td>2016-05-06 03:51:05</td>\n",
              "      <td>85.997745</td>\n",
              "      <td>23.842609</td>\n",
              "      <td>Bokaro</td>\n",
              "      <td>Jharkhand</td>\n",
              "      <td>Millet</td>\n",
              "      <td>MI 4</td>\n",
              "      <td>M</td>\n",
              "      <td>30</td>\n",
              "      <td>M29-31</td>\n",
              "    </tr>\n",
              "    <tr>\n",
              "      <th>1</th>\n",
              "      <td>2386347</td>\n",
              "      <td>338888002570799936</td>\n",
              "      <td>2016-05-06 05:00:17</td>\n",
              "      <td>85.997745</td>\n",
              "      <td>23.842609</td>\n",
              "      <td>Bokaro</td>\n",
              "      <td>Jharkhand</td>\n",
              "      <td>Millet</td>\n",
              "      <td>MI 4</td>\n",
              "      <td>M</td>\n",
              "      <td>30</td>\n",
              "      <td>M29-31</td>\n",
              "    </tr>\n",
              "    <tr>\n",
              "      <th>2</th>\n",
              "      <td>2246062</td>\n",
              "      <td>338888002570799936</td>\n",
              "      <td>2016-05-03 19:16:13</td>\n",
              "      <td>85.997745</td>\n",
              "      <td>23.842609</td>\n",
              "      <td>Bokaro</td>\n",
              "      <td>Jharkhand</td>\n",
              "      <td>Millet</td>\n",
              "      <td>MI 4</td>\n",
              "      <td>M</td>\n",
              "      <td>30</td>\n",
              "      <td>M29-31</td>\n",
              "    </tr>\n",
              "    <tr>\n",
              "      <th>3</th>\n",
              "      <td>1895659</td>\n",
              "      <td>338888002570799936</td>\n",
              "      <td>2016-05-02 12:40:16</td>\n",
              "      <td>85.997745</td>\n",
              "      <td>23.842609</td>\n",
              "      <td>Bokaro</td>\n",
              "      <td>Jharkhand</td>\n",
              "      <td>Millet</td>\n",
              "      <td>MI 4</td>\n",
              "      <td>M</td>\n",
              "      <td>30</td>\n",
              "      <td>M29-31</td>\n",
              "    </tr>\n",
              "    <tr>\n",
              "      <th>4</th>\n",
              "      <td>501580</td>\n",
              "      <td>338888002570799936</td>\n",
              "      <td>2016-05-06 14:26:43</td>\n",
              "      <td>85.997745</td>\n",
              "      <td>23.842609</td>\n",
              "      <td>Bokaro</td>\n",
              "      <td>Jharkhand</td>\n",
              "      <td>Millet</td>\n",
              "      <td>MI 4</td>\n",
              "      <td>M</td>\n",
              "      <td>30</td>\n",
              "      <td>M29-31</td>\n",
              "    </tr>\n",
              "  </tbody>\n",
              "</table>\n",
              "</div>"
            ],
            "text/plain": [
              "   event_id           device_id            timestamp  ...  gender  age age_group\n",
              "0    665740  338888002570799936  2016-05-06 03:51:05  ...       M   30    M29-31\n",
              "1   2386347  338888002570799936  2016-05-06 05:00:17  ...       M   30    M29-31\n",
              "2   2246062  338888002570799936  2016-05-03 19:16:13  ...       M   30    M29-31\n",
              "3   1895659  338888002570799936  2016-05-02 12:40:16  ...       M   30    M29-31\n",
              "4    501580  338888002570799936  2016-05-06 14:26:43  ...       M   30    M29-31\n",
              "\n",
              "[5 rows x 12 columns]"
            ]
          },
          "metadata": {
            "tags": []
          },
          "execution_count": 100
        }
      ]
    },
    {
      "cell_type": "code",
      "metadata": {
        "colab": {
          "base_uri": "https://localhost:8080/",
          "height": 166
        },
        "id": "EaMdTxl1jWff",
        "outputId": "dc1e610a-5804-4318-c23d-0af7335d5315"
      },
      "source": [
        ""
      ],
      "execution_count": null,
      "outputs": [
        {
          "output_type": "error",
          "ename": "NameError",
          "evalue": "ignored",
          "traceback": [
            "\u001b[0;31m---------------------------------------------------------------------------\u001b[0m",
            "\u001b[0;31mNameError\u001b[0m                                 Traceback (most recent call last)",
            "\u001b[0;32m<ipython-input-1-3db205df2aa8>\u001b[0m in \u001b[0;36m<module>\u001b[0;34m()\u001b[0m\n\u001b[0;32m----> 1\u001b[0;31m \u001b[0mdf_final\u001b[0m\u001b[0;34m.\u001b[0m\u001b[0mdrop\u001b[0m\u001b[0;34m.\u001b[0m\u001b[0mduplicates\u001b[0m\u001b[0;34m(\u001b[0m\u001b[0;34m)\u001b[0m\u001b[0;34m\u001b[0m\u001b[0;34m\u001b[0m\u001b[0m\n\u001b[0m",
            "\u001b[0;31mNameError\u001b[0m: name 'df_final' is not defined"
          ]
        }
      ]
    },
    {
      "cell_type": "code",
      "metadata": {
        "colab": {
          "base_uri": "https://localhost:8080/",
          "height": 204
        },
        "id": "p0lsXC6aJEY_",
        "outputId": "9b6c7b5e-41c1-45ea-f1ee-6af493392d1b"
      },
      "source": [
        "df_final.tail()"
      ],
      "execution_count": null,
      "outputs": [
        {
          "output_type": "execute_result",
          "data": {
            "text/html": [
              "<div>\n",
              "<style scoped>\n",
              "    .dataframe tbody tr th:only-of-type {\n",
              "        vertical-align: middle;\n",
              "    }\n",
              "\n",
              "    .dataframe tbody tr th {\n",
              "        vertical-align: top;\n",
              "    }\n",
              "\n",
              "    .dataframe thead th {\n",
              "        text-align: right;\n",
              "    }\n",
              "</style>\n",
              "<table border=\"1\" class=\"dataframe\">\n",
              "  <thead>\n",
              "    <tr style=\"text-align: right;\">\n",
              "      <th></th>\n",
              "      <th>event_id</th>\n",
              "      <th>device_id</th>\n",
              "      <th>timestamp</th>\n",
              "      <th>longitude</th>\n",
              "      <th>latitude</th>\n",
              "      <th>city</th>\n",
              "      <th>state</th>\n",
              "      <th>make</th>\n",
              "      <th>model</th>\n",
              "      <th>gender</th>\n",
              "      <th>age</th>\n",
              "      <th>age_group</th>\n",
              "    </tr>\n",
              "  </thead>\n",
              "  <tbody>\n",
              "    <tr>\n",
              "      <th>30171</th>\n",
              "      <td>1196145</td>\n",
              "      <td>3552164578637774336</td>\n",
              "      <td>2016-05-07 07:05:08</td>\n",
              "      <td>79.779598</td>\n",
              "      <td>28.027129</td>\n",
              "      <td>Tilhar</td>\n",
              "      <td>UttarPradesh</td>\n",
              "      <td>Huawei</td>\n",
              "      <td>Ascend GX1</td>\n",
              "      <td>F</td>\n",
              "      <td>62</td>\n",
              "      <td>F43+</td>\n",
              "    </tr>\n",
              "    <tr>\n",
              "      <th>30172</th>\n",
              "      <td>1086809</td>\n",
              "      <td>5897462847672375296</td>\n",
              "      <td>2016-05-07 10:30:11</td>\n",
              "      <td>83.802026</td>\n",
              "      <td>26.547531</td>\n",
              "      <td>Deoria</td>\n",
              "      <td>UttarPradesh</td>\n",
              "      <td>Millet</td>\n",
              "      <td>MI 2S</td>\n",
              "      <td>M</td>\n",
              "      <td>22</td>\n",
              "      <td>M22-</td>\n",
              "    </tr>\n",
              "    <tr>\n",
              "      <th>30173</th>\n",
              "      <td>825557</td>\n",
              "      <td>-5405535817295226880</td>\n",
              "      <td>2016-05-01 20:40:25</td>\n",
              "      <td>77.376127</td>\n",
              "      <td>28.441091</td>\n",
              "      <td>Faridabad</td>\n",
              "      <td>Haryana</td>\n",
              "      <td>alive</td>\n",
              "      <td>X1</td>\n",
              "      <td>M</td>\n",
              "      <td>34</td>\n",
              "      <td>M32-38</td>\n",
              "    </tr>\n",
              "    <tr>\n",
              "      <th>30174</th>\n",
              "      <td>1992843</td>\n",
              "      <td>-9138332636663558144</td>\n",
              "      <td>2016-05-07 09:18:57</td>\n",
              "      <td>78.558810</td>\n",
              "      <td>17.427019</td>\n",
              "      <td>Hyderabad</td>\n",
              "      <td>Telangana</td>\n",
              "      <td>Huawei</td>\n",
              "      <td>荣耀6</td>\n",
              "      <td>M</td>\n",
              "      <td>24</td>\n",
              "      <td>M23-26</td>\n",
              "    </tr>\n",
              "    <tr>\n",
              "      <th>30175</th>\n",
              "      <td>1174794</td>\n",
              "      <td>-9203024943976366080</td>\n",
              "      <td>2016-05-05 10:56:23</td>\n",
              "      <td>77.592920</td>\n",
              "      <td>30.015720</td>\n",
              "      <td>Saharanpur</td>\n",
              "      <td>UttarPradesh</td>\n",
              "      <td>Samsung</td>\n",
              "      <td>Galaxy Note 3</td>\n",
              "      <td>F</td>\n",
              "      <td>21</td>\n",
              "      <td>F23-</td>\n",
              "    </tr>\n",
              "  </tbody>\n",
              "</table>\n",
              "</div>"
            ],
            "text/plain": [
              "       event_id            device_id            timestamp  ...  gender  age age_group\n",
              "30171   1196145  3552164578637774336  2016-05-07 07:05:08  ...       F   62      F43+\n",
              "30172   1086809  5897462847672375296  2016-05-07 10:30:11  ...       M   22      M22-\n",
              "30173    825557 -5405535817295226880  2016-05-01 20:40:25  ...       M   34    M32-38\n",
              "30174   1992843 -9138332636663558144  2016-05-07 09:18:57  ...       M   24    M23-26\n",
              "30175   1174794 -9203024943976366080  2016-05-05 10:56:23  ...       F   21      F23-\n",
              "\n",
              "[5 rows x 12 columns]"
            ]
          },
          "metadata": {
            "tags": []
          },
          "execution_count": 101
        }
      ]
    },
    {
      "cell_type": "code",
      "metadata": {
        "id": "JDnk8dsnJEY_"
      },
      "source": [
        "df_final.isnull().sum()"
      ],
      "execution_count": null,
      "outputs": []
    },
    {
      "cell_type": "code",
      "metadata": {
        "id": "9luX5L5ZJEY_"
      },
      "source": [
        "df_final.info()"
      ],
      "execution_count": null,
      "outputs": []
    },
    {
      "cell_type": "code",
      "metadata": {
        "id": "cSmhN0daJEY_"
      },
      "source": [
        "plt.figure(figsize=(10, 6))\n",
        "device_id_dist = sns.countplot(x=\"state\", data=df_final,\n",
        "                   linewidth=5, facecolor=(0, 0, 0, 0),\n",
        "                   edgecolor=sns.color_palette(\"dark\", 3))"
      ],
      "execution_count": null,
      "outputs": []
    },
    {
      "cell_type": "code",
      "metadata": {
        "id": "IZ1oE40tJEY_"
      },
      "source": [
        "plt.figure(figsize=(10, 6))\n",
        "device_id_dist1 = sns.histplot(x=\"state\", data=df_final,\n",
        "                   linewidth=5, facecolor=(0, 0, 0, 0),\n",
        "                   edgecolor=sns.color_palette(\"dark\", 3))"
      ],
      "execution_count": null,
      "outputs": []
    },
    {
      "cell_type": "code",
      "metadata": {
        "id": "Aki4YLcWJEY_"
      },
      "source": [
        "plt.figure(figsize=(8, 5))\n",
        "gender_dist = sns.countplot(x=\"gender\", data=df_final,\n",
        "                   linewidth=5, facecolor=(0, 0, 0, 0),\n",
        "                   edgecolor=sns.color_palette(\"turbo\", 3))"
      ],
      "execution_count": null,
      "outputs": []
    },
    {
      "cell_type": "code",
      "metadata": {
        "id": "cVmFb78EJEZA"
      },
      "source": [
        "plt.figure(figsize=(13,5))\n",
        "age_dist = sns.countplot(x=\"age_group\", data=df_final,\n",
        "                   linewidth=5, facecolor=(0, 0, 0, 0),\n",
        "                   edgecolor=sns.color_palette(\"mako\", 3))"
      ],
      "execution_count": null,
      "outputs": []
    },
    {
      "cell_type": "code",
      "metadata": {
        "id": "Z0mRKMmVJEZA"
      },
      "source": [
        "pip install bokeh"
      ],
      "execution_count": null,
      "outputs": []
    },
    {
      "cell_type": "code",
      "metadata": {
        "id": "s3jn4L0XJEZA"
      },
      "source": [
        "from bokeh.models import ColumnDataSource"
      ],
      "execution_count": null,
      "outputs": []
    },
    {
      "cell_type": "code",
      "metadata": {
        "id": "VCWjg2mjJEZA"
      },
      "source": [
        "from bokeh.plotting import figure"
      ],
      "execution_count": null,
      "outputs": []
    },
    {
      "cell_type": "code",
      "metadata": {
        "id": "ron6VwtEJEZA"
      },
      "source": [
        "df_final.head()"
      ],
      "execution_count": null,
      "outputs": []
    },
    {
      "cell_type": "code",
      "metadata": {
        "id": "YVbCTvs1JEZB"
      },
      "source": [
        "df_final.shape"
      ],
      "execution_count": null,
      "outputs": []
    },
    {
      "cell_type": "code",
      "metadata": {
        "id": "TMaL-R4fJEZB"
      },
      "source": [
        "df_final_plot = df_final[['device_id','state','make','gender','age','age_group']]"
      ],
      "execution_count": null,
      "outputs": []
    },
    {
      "cell_type": "code",
      "metadata": {
        "id": "txaiReAvJEZB"
      },
      "source": [
        "df_final_plot.drop_duplicates(inplace=True)"
      ],
      "execution_count": null,
      "outputs": []
    },
    {
      "cell_type": "code",
      "metadata": {
        "id": "sSNQ6oS1JEZB"
      },
      "source": [
        "df_final_plot.shape"
      ],
      "execution_count": null,
      "outputs": []
    },
    {
      "cell_type": "code",
      "metadata": {
        "id": "d0WFMQviJEZB"
      },
      "source": [
        "df_final_plot['state'].value_counts()"
      ],
      "execution_count": null,
      "outputs": []
    },
    {
      "cell_type": "code",
      "metadata": {
        "id": "usCGJacVJEZB"
      },
      "source": [
        "plt.figure(figsize=(10, 6))\n",
        "device_id_dist = sns.countplot(x=\"state\", data=df_final_plot,\n",
        "                   linewidth=5, facecolor=(0, 0, 0, 0),\n",
        "                   edgecolor=sns.color_palette(\"dark\", 3), order = df_final_plot['state'].value_counts().index)"
      ],
      "execution_count": null,
      "outputs": []
    },
    {
      "cell_type": "code",
      "metadata": {
        "id": "0Z16CKNLJEZC"
      },
      "source": [
        "statedata = df_final_plot['state'].value_counts()\n",
        "\n",
        "pie, ax = plt.subplots(figsize=[10,6])\n",
        "labels = statedata.keys()\n",
        "plt.pie(x=statedata, autopct=\"%.1f%%\", explode=[0.05]*7, labels=labels, pctdistance=0.5)\n",
        "plt.title(\"Users state wise\", fontsize=14);"
      ],
      "execution_count": null,
      "outputs": []
    },
    {
      "cell_type": "code",
      "metadata": {
        "id": "PcLwC2azJEZC"
      },
      "source": [
        "df_final_plot['make'].value_counts().nlargest(10)"
      ],
      "execution_count": null,
      "outputs": []
    },
    {
      "cell_type": "code",
      "metadata": {
        "id": "eWvf1EvOJEZC"
      },
      "source": [
        "plt.figure(figsize=(10, 6))\n",
        "make_dist = sns.countplot(x=\"make\", data=df_final_plot,\n",
        "                   linewidth=5, facecolor=(0, 0, 0, 0),\n",
        "                   edgecolor=sns.color_palette(\"dark\", 3), order = df_final_plot['make'].value_counts().nlargest(10).index)"
      ],
      "execution_count": null,
      "outputs": []
    },
    {
      "cell_type": "code",
      "metadata": {
        "id": "neCmiNJsJEZC"
      },
      "source": [
        "make = df_final_plot['make'].value_counts().nlargest(10)\n",
        "\n",
        "pie, ax = plt.subplots(figsize=[10,6])\n",
        "labels = make.keys()\n",
        "plt.pie(x=make, autopct=\"%.1f%%\", explode=[0.08]*10, labels=labels, pctdistance=0.5)\n",
        "plt.title(\"Users of top10 phone brand\", fontsize=14);"
      ],
      "execution_count": null,
      "outputs": []
    },
    {
      "cell_type": "code",
      "metadata": {
        "id": "eb10EvkLJEZC"
      },
      "source": [
        "gender = df_final_plot['gender'].value_counts()\n",
        "\n",
        "pie, ax = plt.subplots(figsize=[10,6])\n",
        "labels = gender.keys()\n",
        "plt.pie(x=gender, autopct=\"%.1f%%\",  labels=labels, pctdistance=0.5, colors = ('brown','pink'))\n",
        "plt.title(\"Gender wise distribution\", fontsize=14);"
      ],
      "execution_count": null,
      "outputs": []
    },
    {
      "cell_type": "code",
      "metadata": {
        "id": "kGsLpKcyJEZD"
      },
      "source": [
        "df_final_plot['gender'].value_counts()"
      ],
      "execution_count": null,
      "outputs": []
    },
    {
      "cell_type": "code",
      "metadata": {
        "id": "SAwx-OAgJEZD"
      },
      "source": [
        "total = len(df_final_plot['gender'])*1.\n",
        "fig, axis1 = plt.subplots(1,1,figsize=(15,5))\n",
        "gender_state = sns.countplot(x='gender', hue=\"state\", data=df_final_plot, ax=axis1)\n",
        "plt.title(\"Gender Distribution Across State\")\n",
        "plt.ylabel('Count')\n",
        "for p in gender_state.patches:\n",
        "    gender_state.annotate(format(p.get_height()), (p.get_x() + p.get_width() / 2., p.get_height()), ha = 'center', va = 'center', xytext = (0, 10), textcoords = 'offset points')"
      ],
      "execution_count": null,
      "outputs": []
    },
    {
      "cell_type": "code",
      "metadata": {
        "id": "g-9vZFJWJEZD"
      },
      "source": [
        "plt.figure(figsize=(10, 6))\n",
        "age_group_dist = sns.countplot(x=\"age_group\", data=df_final_plot,\n",
        "                   linewidth=5, facecolor=(0, 0, 0, 0),\n",
        "                   edgecolor=sns.color_palette(\"flare\", 3), order = df_final_plot['age_group'].value_counts().index)\n",
        "for p in age_group_dist.patches:\n",
        "    age_group_dist.annotate(format(p.get_height()), (p.get_x() + p.get_width() / 2., p.get_height()), \\\n",
        "                   ha = 'center', va = 'center', xytext = (0, 10), textcoords = 'offset points')"
      ],
      "execution_count": null,
      "outputs": []
    },
    {
      "cell_type": "code",
      "metadata": {
        "id": "KLq6Q09yJEZE"
      },
      "source": [
        "plt.figure(figsize=(15,5))\n",
        "agegroup = sns.FacetGrid(df_final_plot, hue=\"state\",aspect=4)\n",
        "agegroup.map(sns.kdeplot,'age') \n",
        "agegroup.set(xlim=(0, df_final_plot['age'].max()))\n",
        "agegroup.add_legend()\n",
        "plt.title(\"Age distribution Across States\")"
      ],
      "execution_count": null,
      "outputs": []
    },
    {
      "cell_type": "code",
      "metadata": {
        "id": "M2_zmWM7JEZE"
      },
      "source": [
        "fig, axis1 = plt.subplots(1,1,figsize=(15,5))\n",
        "sns.countplot(x='make', hue=\"state\",order=df_final_plot.make.value_counts().iloc[:10].index, data=df_final, ax=axis1)\n",
        "plt.title(\"Top 10 Phone Brand Distribution Across States\")"
      ],
      "execution_count": null,
      "outputs": []
    },
    {
      "cell_type": "code",
      "metadata": {
        "id": "utlIxWJqJEZE"
      },
      "source": [
        "fig, axis1 = plt.subplots(1,1,figsize=(15,5))\n",
        "sns.countplot(x='make', hue=\"age_group\",order=df_final_plot.make.value_counts().iloc[:10].index, data=df_final, ax=axis1)\n",
        "plt.title(\"Top 10 Phone Brand Distribution Across Age Groups\")"
      ],
      "execution_count": null,
      "outputs": []
    },
    {
      "cell_type": "code",
      "metadata": {
        "jupyter": {
          "source_hidden": true
        },
        "id": "vfIHL3fIJEZE"
      },
      "source": [
        "fig, axis1 = plt.subplots(1,1,figsize=(15,5))\n",
        "sns.countplot(x='make', hue=\"gender\",order=df_final_plot.make.value_counts().iloc[:10].index, data=df_final, ax=axis1)\n",
        "plt.title(\"Top 10 Phone Brand Distribution Across Gender\")"
      ],
      "execution_count": null,
      "outputs": []
    },
    {
      "cell_type": "code",
      "metadata": {
        "jupyter": {
          "source_hidden": true
        },
        "id": "l8C-ZDnBJEZE"
      },
      "source": [
        "fig, axis1 = plt.subplots(1,1,figsize=(17,5))\n",
        "sns.countplot(x='age_group', hue=\"state\", data=df_final_plot, ax=axis1)\n",
        "plt.title(\"Age Group Distribution Across States\")"
      ],
      "execution_count": null,
      "outputs": []
    },
    {
      "cell_type": "code",
      "metadata": {
        "jupyter": {
          "source_hidden": true
        },
        "id": "WQZT559sJEZF"
      },
      "source": [
        "fig, axis1 = plt.subplots(1,1,figsize=(17,5))\n",
        "sns.countplot(x='gender', hue=\"state\", data=df_final_plot, ax=axis1)\n",
        "plt.title(\"Gender Distribution Across States\")"
      ],
      "execution_count": null,
      "outputs": []
    },
    {
      "cell_type": "code",
      "metadata": {
        "jupyter": {
          "source_hidden": true
        },
        "id": "tnpjqjwtJEZF"
      },
      "source": [
        "fig, axis1 = plt.subplots(1,1,figsize=(15,5))\n",
        "sns.countplot(x='make', hue=\"gender\",order=df_final_plot.make.value_counts().iloc[:10].index, data=df_final, ax=axis1)\n",
        "plt.title(\"Top 10 Phone Brand Distribution Across Gender\")"
      ],
      "execution_count": null,
      "outputs": []
    },
    {
      "cell_type": "code",
      "metadata": {
        "jupyter": {
          "source_hidden": true
        },
        "id": "8w34HHfQJEZF"
      },
      "source": [
        "df_final.info()"
      ],
      "execution_count": null,
      "outputs": []
    },
    {
      "cell_type": "code",
      "metadata": {
        "jupyter": {
          "source_hidden": true
        },
        "id": "iFUi9kcTJEZF"
      },
      "source": [
        "df_final['timestamp']=pd.to_datetime(df_final['timestamp'])"
      ],
      "execution_count": null,
      "outputs": []
    },
    {
      "cell_type": "code",
      "metadata": {
        "jupyter": {
          "source_hidden": true
        },
        "id": "ZO689JjEJEZF"
      },
      "source": [
        "df_final['time_range'] = df_final['timestamp'].dt.hour"
      ],
      "execution_count": null,
      "outputs": []
    },
    {
      "cell_type": "code",
      "metadata": {
        "jupyter": {
          "source_hidden": true
        },
        "id": "zyAbFB-sJEZG"
      },
      "source": [
        "plt.figure(figsize=(15,5))\n",
        "g = sns.catplot(x=\"age_group\", y='time_range', kind=\"violin\", data=df_final)\n",
        "g.set_xticklabels(rotation=45)"
      ],
      "execution_count": null,
      "outputs": []
    },
    {
      "cell_type": "code",
      "metadata": {
        "jupyter": {
          "source_hidden": true
        },
        "id": "nqlcpgBpJEZG"
      },
      "source": [
        "plt.figure(figsize=(15,5))\n",
        "calldist = sns.histplot(data=df_final, x=\"time_range\", color=\"green\" , kde=True)\n",
        "for p in calldist.patches:\n",
        "    calldist.annotate(format(p.get_height()), (p.get_x() + p.get_width() / 2., p.get_height()), \\\n",
        "                   ha = 'center', va = 'center', xytext = (0, 10), textcoords = 'offset points')"
      ],
      "execution_count": null,
      "outputs": []
    },
    {
      "cell_type": "code",
      "metadata": {
        "id": "_yA4yRUqJEZG"
      },
      "source": [
        "mc=fm.plugins.MarkerCluster(control=False)"
      ],
      "execution_count": null,
      "outputs": []
    },
    {
      "cell_type": "code",
      "metadata": {
        "id": "Wq8YRf9IJEZG"
      },
      "source": [
        "map1 = fm.Map(location=[22.356359, 79.395484], zoom_start=5)\n",
        "#mc = MarkerCluster()\n",
        "state_list = ['Rajasthan', 'UttarPradesh', 'Haryana', 'Jharkhand', 'Orissa', 'Telangana', 'Assam']\n",
        "\n",
        "for state in state_list:\n",
        "    mapping_data = df_final[['latitude', 'longitude','city']][df_final['state']==state].drop_duplicates()\n",
        "    citylist = mapping_data['city'].tolist()\n",
        "        \n",
        "    locations = mapping_data[['latitude', 'longitude']]\n",
        "    locationlist = locations.values.tolist()\n",
        "    \n",
        "    for index, item in enumerate(locationlist):\n",
        "        mc.add_child(fm.Marker(location=item, popup=citylist[index]))\n",
        "                             \n",
        "map1.add_child(mc)\n",
        "map1.save(\"state_wise_map_plot2.html\")\n"
      ],
      "execution_count": null,
      "outputs": []
    }
  ]
}